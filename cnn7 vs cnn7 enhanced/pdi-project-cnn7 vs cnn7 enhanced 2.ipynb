{
 "cells": [
  {
   "cell_type": "markdown",
   "id": "d5e9514a",
   "metadata": {
    "papermill": {
     "duration": 0.013003,
     "end_time": "2025-02-01T02:36:40.603377",
     "exception": false,
     "start_time": "2025-02-01T02:36:40.590374",
     "status": "completed"
    },
    "tags": []
   },
   "source": [
    "# Imports"
   ]
  },
  {
   "cell_type": "code",
   "execution_count": 1,
   "id": "bf58746b",
   "metadata": {
    "_cell_guid": "859edf32-f5ad-426b-9f26-a2172e7d440e",
    "_uuid": "6a29cfe9-18b9-4745-aea0-aadc900c4712",
    "collapsed": false,
    "execution": {
     "iopub.execute_input": "2025-02-01T02:36:40.625391Z",
     "iopub.status.busy": "2025-02-01T02:36:40.625128Z",
     "iopub.status.idle": "2025-02-01T02:36:47.326564Z",
     "shell.execute_reply": "2025-02-01T02:36:47.325868Z"
    },
    "jupyter": {
     "outputs_hidden": false
    },
    "papermill": {
     "duration": 6.714768,
     "end_time": "2025-02-01T02:36:47.328632",
     "exception": false,
     "start_time": "2025-02-01T02:36:40.613864",
     "status": "completed"
    },
    "tags": []
   },
   "outputs": [],
   "source": [
    "import os\n",
    "import cv2\n",
    "import torch\n",
    "import time\n",
    "import numpy as np\n",
    "import pandas as pd\n",
    "from PIL import Image\n",
    "import torch.nn as nn\n",
    "from tqdm import tqdm\n",
    "import seaborn as sns\n",
    "import torch.optim as optim\n",
    "import matplotlib.pyplot as plt\n",
    "import torch.nn.functional as F\n",
    "from collections import Counter\n",
    "from torch.utils.data import Subset\n",
    "from torchvision import datasets, transforms \n",
    "from torch.utils.data import DataLoader, Subset, random_split\n",
    "from sklearn.metrics import accuracy_score, precision_score, recall_score, f1_score, roc_auc_score, confusion_matrix"
   ]
  },
  {
   "cell_type": "markdown",
   "id": "9678612a",
   "metadata": {
    "papermill": {
     "duration": 0.010172,
     "end_time": "2025-02-01T02:36:47.349780",
     "exception": false,
     "start_time": "2025-02-01T02:36:47.339608",
     "status": "completed"
    },
    "tags": []
   },
   "source": [
    "# Utils"
   ]
  },
  {
   "cell_type": "code",
   "execution_count": 2,
   "id": "81aba212",
   "metadata": {
    "execution": {
     "iopub.execute_input": "2025-02-01T02:36:47.373031Z",
     "iopub.status.busy": "2025-02-01T02:36:47.372488Z",
     "iopub.status.idle": "2025-02-01T02:36:47.377076Z",
     "shell.execute_reply": "2025-02-01T02:36:47.376304Z"
    },
    "papermill": {
     "duration": 0.018611,
     "end_time": "2025-02-01T02:36:47.378875",
     "exception": false,
     "start_time": "2025-02-01T02:36:47.360264",
     "status": "completed"
    },
    "tags": []
   },
   "outputs": [],
   "source": [
    "# Setting up file paths\n",
    "train_path = '/kaggle/input/kermany2018/OCT2017 /train'\n",
    "test_path = '/kaggle/input/kermany2018/OCT2017 /test'\n",
    "val_path = '/kaggle/input/kermany2018/OCT2017 /val'"
   ]
  },
  {
   "cell_type": "code",
   "execution_count": 3,
   "id": "42474828",
   "metadata": {
    "execution": {
     "iopub.execute_input": "2025-02-01T02:36:47.403344Z",
     "iopub.status.busy": "2025-02-01T02:36:47.403075Z",
     "iopub.status.idle": "2025-02-01T02:36:47.496470Z",
     "shell.execute_reply": "2025-02-01T02:36:47.495651Z"
    },
    "papermill": {
     "duration": 0.107501,
     "end_time": "2025-02-01T02:36:47.498092",
     "exception": false,
     "start_time": "2025-02-01T02:36:47.390591",
     "status": "completed"
    },
    "tags": []
   },
   "outputs": [
    {
     "data": {
      "text/plain": [
       "'cuda'"
      ]
     },
     "execution_count": 3,
     "metadata": {},
     "output_type": "execute_result"
    }
   ],
   "source": [
    "device = \"cuda\" if torch.cuda.is_available() else \"cpu\"\n",
    "device"
   ]
  },
  {
   "cell_type": "code",
   "execution_count": 4,
   "id": "3fb261c2",
   "metadata": {
    "execution": {
     "iopub.execute_input": "2025-02-01T02:36:47.520055Z",
     "iopub.status.busy": "2025-02-01T02:36:47.519789Z",
     "iopub.status.idle": "2025-02-01T02:36:47.525211Z",
     "shell.execute_reply": "2025-02-01T02:36:47.524390Z"
    },
    "papermill": {
     "duration": 0.017997,
     "end_time": "2025-02-01T02:36:47.526742",
     "exception": false,
     "start_time": "2025-02-01T02:36:47.508745",
     "status": "completed"
    },
    "tags": []
   },
   "outputs": [],
   "source": [
    "def show_image_and_histogram(img, title_image=\"Image\", title_hist=\"Histogram\", bins=256):\n",
    "    # plotar imagem de um lado e do outro o histograma\n",
    "    plt.figure(figsize=(15, 5))\n",
    "\n",
    "    # Adicionar a imagem\n",
    "    plt.subplot(1, 2, 1)\n",
    "    plt.imshow(img, cmap=\"gray\")\n",
    "    plt.title(title_image)\n",
    "    plt.axis(\"off\")\n",
    "\n",
    "    # Adicionar o histograma da imagem\n",
    "    plt.subplot(1, 2, 2)\n",
    "    plt.hist(np.array(img).ravel(), bins=bins, color=\"black\")\n",
    "    plt.title(title_hist)\n",
    "    plt.xlabel(\"Pixel Value\")\n",
    "    plt.ylabel(\"Frequency\")\n",
    "\n",
    "    plt.tight_layout()\n",
    "    plt.show()"
   ]
  },
  {
   "cell_type": "code",
   "execution_count": 5,
   "id": "e71cbc1e",
   "metadata": {
    "execution": {
     "iopub.execute_input": "2025-02-01T02:36:47.548248Z",
     "iopub.status.busy": "2025-02-01T02:36:47.547999Z",
     "iopub.status.idle": "2025-02-01T02:36:47.551709Z",
     "shell.execute_reply": "2025-02-01T02:36:47.551062Z"
    },
    "papermill": {
     "duration": 0.016442,
     "end_time": "2025-02-01T02:36:47.553362",
     "exception": false,
     "start_time": "2025-02-01T02:36:47.536920",
     "status": "completed"
    },
    "tags": []
   },
   "outputs": [],
   "source": [
    "def denormalize(img, mean, std):\n",
    "    img = img * std + mean\n",
    "    img = np.clip(img, 0, 1)\n",
    "    return img"
   ]
  },
  {
   "cell_type": "markdown",
   "id": "5e4142a3",
   "metadata": {
    "papermill": {
     "duration": 0.010138,
     "end_time": "2025-02-01T02:36:47.573854",
     "exception": false,
     "start_time": "2025-02-01T02:36:47.563716",
     "status": "completed"
    },
    "tags": []
   },
   "source": [
    "# Load Data"
   ]
  },
  {
   "cell_type": "code",
   "execution_count": 6,
   "id": "01caae64",
   "metadata": {
    "execution": {
     "iopub.execute_input": "2025-02-01T02:36:47.595393Z",
     "iopub.status.busy": "2025-02-01T02:36:47.595156Z",
     "iopub.status.idle": "2025-02-01T02:36:47.598586Z",
     "shell.execute_reply": "2025-02-01T02:36:47.597937Z"
    },
    "papermill": {
     "duration": 0.015961,
     "end_time": "2025-02-01T02:36:47.600067",
     "exception": false,
     "start_time": "2025-02-01T02:36:47.584106",
     "status": "completed"
    },
    "tags": []
   },
   "outputs": [],
   "source": [
    "data_directory = train_path # No artigo, o autor utiliza apenas o diretório de treino para fazer o split em treino, teste e validação"
   ]
  },
  {
   "cell_type": "code",
   "execution_count": 7,
   "id": "e5e265b9",
   "metadata": {
    "execution": {
     "iopub.execute_input": "2025-02-01T02:36:47.621821Z",
     "iopub.status.busy": "2025-02-01T02:36:47.621576Z",
     "iopub.status.idle": "2025-02-01T02:36:47.625102Z",
     "shell.execute_reply": "2025-02-01T02:36:47.624429Z"
    },
    "papermill": {
     "duration": 0.016385,
     "end_time": "2025-02-01T02:36:47.626644",
     "exception": false,
     "start_time": "2025-02-01T02:36:47.610259",
     "status": "completed"
    },
    "tags": []
   },
   "outputs": [],
   "source": [
    "split_train, split_val, split_test = 0.9016, 0.0184, 0.08\n",
    "split_data = [split_train, split_val, split_test]\n",
    "batch_size = 84"
   ]
  },
  {
   "cell_type": "code",
   "execution_count": 8,
   "id": "67239693",
   "metadata": {
    "execution": {
     "iopub.execute_input": "2025-02-01T02:36:47.647861Z",
     "iopub.status.busy": "2025-02-01T02:36:47.647618Z",
     "iopub.status.idle": "2025-02-01T02:39:20.778196Z",
     "shell.execute_reply": "2025-02-01T02:39:20.777448Z"
    },
    "papermill": {
     "duration": 153.143687,
     "end_time": "2025-02-01T02:39:20.780470",
     "exception": false,
     "start_time": "2025-02-01T02:36:47.636783",
     "status": "completed"
    },
    "tags": []
   },
   "outputs": [],
   "source": [
    "raw_dataset = datasets.ImageFolder(root=data_directory)"
   ]
  },
  {
   "cell_type": "code",
   "execution_count": 9,
   "id": "51b5d954",
   "metadata": {
    "execution": {
     "iopub.execute_input": "2025-02-01T02:39:20.803378Z",
     "iopub.status.busy": "2025-02-01T02:39:20.803118Z",
     "iopub.status.idle": "2025-02-01T02:39:20.808305Z",
     "shell.execute_reply": "2025-02-01T02:39:20.807589Z"
    },
    "papermill": {
     "duration": 0.018575,
     "end_time": "2025-02-01T02:39:20.809914",
     "exception": false,
     "start_time": "2025-02-01T02:39:20.791339",
     "status": "completed"
    },
    "tags": []
   },
   "outputs": [
    {
     "data": {
      "text/plain": [
       "Dataset ImageFolder\n",
       "    Number of datapoints: 83484\n",
       "    Root location: /kaggle/input/kermany2018/OCT2017 /train"
      ]
     },
     "execution_count": 9,
     "metadata": {},
     "output_type": "execute_result"
    }
   ],
   "source": [
    "raw_dataset"
   ]
  },
  {
   "cell_type": "markdown",
   "id": "9dc5c3d6",
   "metadata": {
    "_cell_guid": "da1956af-109b-4f8b-8874-5c26818a204e",
    "_uuid": "647229ba-708b-42c6-a533-dc71375f2c16",
    "collapsed": false,
    "jupyter": {
     "outputs_hidden": false
    },
    "papermill": {
     "duration": 0.010027,
     "end_time": "2025-02-01T02:39:20.830248",
     "exception": false,
     "start_time": "2025-02-01T02:39:20.820221",
     "status": "completed"
    },
    "tags": []
   },
   "source": [
    "# Preprocessing data"
   ]
  },
  {
   "cell_type": "markdown",
   "id": "fc7d8051",
   "metadata": {
    "papermill": {
     "duration": 0.010148,
     "end_time": "2025-02-01T02:39:20.850593",
     "exception": false,
     "start_time": "2025-02-01T02:39:20.840445",
     "status": "completed"
    },
    "tags": []
   },
   "source": [
    "Etapas para pré-processamento de dados:\n",
    "\n",
    "1. Leia os arquivos do diretório.\n",
    "\n",
    "2. Aplique o redimensionamento de cada imagem para 150 × 150 pixels.\n",
    "\n",
    "3. Aplique a operação CentreCrop com dimensões finais de 128 × 128 pixels a cada imagem.\n",
    "\n",
    "4. Converta a imagem no tipo de dados tensor para compatibilidade com o modelo.\n",
    "\n",
    "5. Normalize a imagem subtraindo a média de cada valor de pixel e dividindo o resultado pelo desvio padrão usando a transformação padrão.rmação padrão.\r\n",
    "\r\n"
   ]
  },
  {
   "cell_type": "markdown",
   "id": "1c2814eb",
   "metadata": {
    "papermill": {
     "duration": 0.010405,
     "end_time": "2025-02-01T02:39:20.871350",
     "exception": false,
     "start_time": "2025-02-01T02:39:20.860945",
     "status": "completed"
    },
    "tags": []
   },
   "source": [
    "A normalização padrão ajuda a melhorar a convergência durante o treinamento de modelos de aprendizado de máquina, pois evita que a magnitude das variáveis tenha um impacto desproporcional na aprendizagem. Isso é especialmente importante em redes neurais, onde a uniformidade dos dados pode acelerar o treinamento e melhorar a precisão do modelo."
   ]
  },
  {
   "cell_type": "code",
   "execution_count": 10,
   "id": "0deb4a50",
   "metadata": {
    "execution": {
     "iopub.execute_input": "2025-02-01T02:39:20.892795Z",
     "iopub.status.busy": "2025-02-01T02:39:20.892565Z",
     "iopub.status.idle": "2025-02-01T02:39:20.896134Z",
     "shell.execute_reply": "2025-02-01T02:39:20.895435Z"
    },
    "papermill": {
     "duration": 0.016064,
     "end_time": "2025-02-01T02:39:20.897673",
     "exception": false,
     "start_time": "2025-02-01T02:39:20.881609",
     "status": "completed"
    },
    "tags": []
   },
   "outputs": [],
   "source": [
    "mean, std = 0.18484567, 0.15903676\n",
    "resize = (150, 150)\n",
    "center_crop = (128, 128)"
   ]
  },
  {
   "cell_type": "code",
   "execution_count": 11,
   "id": "745cb58d",
   "metadata": {
    "execution": {
     "iopub.execute_input": "2025-02-01T02:39:20.919471Z",
     "iopub.status.busy": "2025-02-01T02:39:20.919230Z",
     "iopub.status.idle": "2025-02-01T02:39:20.922734Z",
     "shell.execute_reply": "2025-02-01T02:39:20.921953Z"
    },
    "papermill": {
     "duration": 0.015996,
     "end_time": "2025-02-01T02:39:20.924247",
     "exception": false,
     "start_time": "2025-02-01T02:39:20.908251",
     "status": "completed"
    },
    "tags": []
   },
   "outputs": [],
   "source": [
    "input_channels = 3 # quantidade de canais presentes na imagem"
   ]
  },
  {
   "cell_type": "code",
   "execution_count": 12,
   "id": "3182208d",
   "metadata": {
    "execution": {
     "iopub.execute_input": "2025-02-01T02:39:20.945639Z",
     "iopub.status.busy": "2025-02-01T02:39:20.945383Z",
     "iopub.status.idle": "2025-02-01T02:39:20.949350Z",
     "shell.execute_reply": "2025-02-01T02:39:20.948683Z"
    },
    "papermill": {
     "duration": 0.016255,
     "end_time": "2025-02-01T02:39:20.950789",
     "exception": false,
     "start_time": "2025-02-01T02:39:20.934534",
     "status": "completed"
    },
    "tags": []
   },
   "outputs": [],
   "source": [
    "transform = transforms.Compose([\n",
    "    transforms.Resize(resize),\n",
    "    transforms.CenterCrop(center_crop),\n",
    "    transforms.ToTensor(),\n",
    "    transforms.Normalize(mean=[mean, mean, mean] , std=[std, std, std])\n",
    "])"
   ]
  },
  {
   "cell_type": "code",
   "execution_count": 13,
   "id": "2fa675c8",
   "metadata": {
    "execution": {
     "iopub.execute_input": "2025-02-01T02:39:20.972055Z",
     "iopub.status.busy": "2025-02-01T02:39:20.971814Z",
     "iopub.status.idle": "2025-02-01T02:39:43.144963Z",
     "shell.execute_reply": "2025-02-01T02:39:43.144228Z"
    },
    "papermill": {
     "duration": 22.185886,
     "end_time": "2025-02-01T02:39:43.146805",
     "exception": false,
     "start_time": "2025-02-01T02:39:20.960919",
     "status": "completed"
    },
    "tags": []
   },
   "outputs": [],
   "source": [
    "dataset = datasets.ImageFolder(root=data_directory, transform=transform)"
   ]
  },
  {
   "cell_type": "code",
   "execution_count": 14,
   "id": "085b63cc",
   "metadata": {
    "execution": {
     "iopub.execute_input": "2025-02-01T02:39:43.169236Z",
     "iopub.status.busy": "2025-02-01T02:39:43.168963Z",
     "iopub.status.idle": "2025-02-01T02:39:43.199031Z",
     "shell.execute_reply": "2025-02-01T02:39:43.198351Z"
    },
    "papermill": {
     "duration": 0.043081,
     "end_time": "2025-02-01T02:39:43.200613",
     "exception": false,
     "start_time": "2025-02-01T02:39:43.157532",
     "status": "completed"
    },
    "tags": []
   },
   "outputs": [],
   "source": [
    "train_dataset, val_dataset, test_dataset = random_split(dataset, split_data)"
   ]
  },
  {
   "cell_type": "code",
   "execution_count": 15,
   "id": "62f5c73b",
   "metadata": {
    "execution": {
     "iopub.execute_input": "2025-02-01T02:39:43.222374Z",
     "iopub.status.busy": "2025-02-01T02:39:43.221868Z",
     "iopub.status.idle": "2025-02-01T02:39:43.226538Z",
     "shell.execute_reply": "2025-02-01T02:39:43.225810Z"
    },
    "papermill": {
     "duration": 0.017215,
     "end_time": "2025-02-01T02:39:43.228135",
     "exception": false,
     "start_time": "2025-02-01T02:39:43.210920",
     "status": "completed"
    },
    "tags": []
   },
   "outputs": [],
   "source": [
    "train_loader = DataLoader(train_dataset, batch_size=batch_size, shuffle=True)\n",
    "test_loader = DataLoader(test_dataset, batch_size=batch_size, shuffle=False)\n",
    "val_loader = DataLoader(val_dataset, batch_size=batch_size, shuffle=False)"
   ]
  },
  {
   "cell_type": "markdown",
   "id": "499746fa",
   "metadata": {
    "papermill": {
     "duration": 0.01007,
     "end_time": "2025-02-01T02:39:43.248376",
     "exception": false,
     "start_time": "2025-02-01T02:39:43.238306",
     "status": "completed"
    },
    "tags": []
   },
   "source": [
    "## Enhancement"
   ]
  },
  {
   "cell_type": "markdown",
   "id": "ed130757",
   "metadata": {
    "papermill": {
     "duration": 0.01019,
     "end_time": "2025-02-01T02:39:43.268800",
     "exception": false,
     "start_time": "2025-02-01T02:39:43.258610",
     "status": "completed"
    },
    "tags": []
   },
   "source": [
    "Etapas para aprimoramento de imagem:\n",
    "\n",
    "1. Leia os arquivos do diretório.\n",
    "\n",
    "2. Aplique filtro de desfoque da mediana para suavizar.\n",
    "\n",
    "3. Converta em tons de cinza para operações futuras.\n",
    "\n",
    "4. Aplique CLAHE sobre a imagem para melhorar o baixo contraste.\n",
    "\n",
    "5. Limite de imagem por limites de corte de limite adequados.\n",
    "\n",
    "6. Remova mais ruídos e quebras na estrutura por operação de morfologia.\n",
    "\n",
    "7. Extraia os contornos da saída acima para extrair as bordas da camada retiniana (as outras técnicas de detecção de bordas não foram úteis conforme discutido).\n",
    "\n",
    "8. Desenhe contornos na imagem original para permitir bordas e estruturas de camadas.\n",
    "\n",
    "9. Aplique outras transformações como na etapa anterior, incluindo redimensionamento, corte central e normalização.e central e normalização.\r\n",
    "\r\n"
   ]
  },
  {
   "cell_type": "code",
   "execution_count": 16,
   "id": "b36ad0ab",
   "metadata": {
    "execution": {
     "iopub.execute_input": "2025-02-01T02:39:43.290615Z",
     "iopub.status.busy": "2025-02-01T02:39:43.290317Z",
     "iopub.status.idle": "2025-02-01T02:39:43.300866Z",
     "shell.execute_reply": "2025-02-01T02:39:43.300158Z"
    },
    "papermill": {
     "duration": 0.023277,
     "end_time": "2025-02-01T02:39:43.302314",
     "exception": false,
     "start_time": "2025-02-01T02:39:43.279037",
     "status": "completed"
    },
    "tags": []
   },
   "outputs": [],
   "source": [
    "def enhance_image(img, morphology_algorithm = cv2.MORPH_CLOSE ):\n",
    "    img = np.array(img)\n",
    "    original_img = img.copy()\n",
    "\n",
    "    # Converter para tons de cinza, se necessário\n",
    "    if len(img.shape) == 3 and img.shape[2] == 3:  \n",
    "        img = cv2.cvtColor(img, cv2.COLOR_RGB2GRAY)\n",
    "\n",
    "    # Aplicar o filtro de mediana\n",
    "    img = cv2.medianBlur(img, 5)\n",
    "\n",
    "    # Aplicar CLAHE (Contrast Limited Adaptive Histogram Equalization)\n",
    "    clahe = cv2.createCLAHE(clipLimit=2.0, tileGridSize=(8, 8))\n",
    "    img = clahe.apply(img)\n",
    "\n",
    "    # Segmentar a imagem com o threshold de Otsu\n",
    "    _, img_bin = cv2.threshold(img, 0, 255, cv2.THRESH_BINARY + cv2.THRESH_OTSU)\n",
    "\n",
    "    # Remover ruídos com operação de morfológica\n",
    "    # kernel = cv2.getStructuringElement(cv2.MORPH_ELLIPSE, (3, 3))\n",
    "    kernel = cv2.getStructuringElement(cv2.MORPH_RECT, (3, 3))\n",
    "    img_bin = cv2.morphologyEx(img_bin, morphology_algorithm, kernel, iterations=1)\n",
    "\n",
    "    # Extrair contornos\n",
    "    contours, _ = cv2.findContours(img_bin, cv2.RETR_EXTERNAL, cv2.CHAIN_APPROX_SIMPLE)\n",
    "\n",
    "     # Criar uma máscara binária a partir dos contornos\n",
    "    mask = np.zeros_like(img_bin)\n",
    "    cv2.drawContours(mask, contours, -1, 255, thickness=cv2.FILLED)  # Preencher os contornos\n",
    "\n",
    "    # Multiplicar a imagem original pela máscara binária\n",
    "    if len(original_img.shape) == 3:  # Se a imagem original for colorida\n",
    "        mask = cv2.cvtColor(mask, cv2.COLOR_GRAY2RGB)  # Converter a máscara para RGB\n",
    "        enhanced_img = cv2.bitwise_and(original_img, mask)  # Aplicar a máscara\n",
    "    else:\n",
    "        enhanced_img = cv2.bitwise_and(original_img, mask)  # Aplicar a máscara (imagem em tons de cinza)\n",
    "    \n",
    "    # Converter o array numpy de volta para um objeto PIL.Image\n",
    "    return Image.fromarray(enhanced_img)\n",
    "\n",
    "\n",
    "enhancement_transform  = transforms.Compose([\n",
    "    transforms.Lambda(lambda x: enhance_image(x, morphology_algorithm = cv2.MORPH_CLOSE)),\n",
    "    \n",
    "    transforms.Resize(resize),\n",
    "    transforms.CenterCrop(center_crop),\n",
    "    transforms.ToTensor(),\n",
    "    transforms.Normalize(mean=[mean],  std=[std])\n",
    "])\n"
   ]
  },
  {
   "cell_type": "code",
   "execution_count": 17,
   "id": "a463f3d0",
   "metadata": {
    "execution": {
     "iopub.execute_input": "2025-02-01T02:39:43.323828Z",
     "iopub.status.busy": "2025-02-01T02:39:43.323555Z",
     "iopub.status.idle": "2025-02-01T02:40:09.220283Z",
     "shell.execute_reply": "2025-02-01T02:40:09.219534Z"
    },
    "papermill": {
     "duration": 25.909803,
     "end_time": "2025-02-01T02:40:09.222273",
     "exception": false,
     "start_time": "2025-02-01T02:39:43.312470",
     "status": "completed"
    },
    "tags": []
   },
   "outputs": [],
   "source": [
    "enhanced_dataset = datasets.ImageFolder(root=data_directory, transform=enhancement_transform)"
   ]
  },
  {
   "cell_type": "code",
   "execution_count": 18,
   "id": "53a51bf4",
   "metadata": {
    "execution": {
     "iopub.execute_input": "2025-02-01T02:40:09.244555Z",
     "iopub.status.busy": "2025-02-01T02:40:09.244244Z",
     "iopub.status.idle": "2025-02-01T02:40:09.252590Z",
     "shell.execute_reply": "2025-02-01T02:40:09.251729Z"
    },
    "papermill": {
     "duration": 0.021196,
     "end_time": "2025-02-01T02:40:09.254328",
     "exception": false,
     "start_time": "2025-02-01T02:40:09.233132",
     "status": "completed"
    },
    "tags": []
   },
   "outputs": [],
   "source": [
    "enhanced_train_dataset, enhanced_val_dataset, enhanced_test_dataset = random_split(enhanced_dataset, split_data)"
   ]
  },
  {
   "cell_type": "code",
   "execution_count": 19,
   "id": "f66fe4c3",
   "metadata": {
    "execution": {
     "iopub.execute_input": "2025-02-01T02:40:09.279753Z",
     "iopub.status.busy": "2025-02-01T02:40:09.279459Z",
     "iopub.status.idle": "2025-02-01T02:40:09.283477Z",
     "shell.execute_reply": "2025-02-01T02:40:09.282816Z"
    },
    "papermill": {
     "duration": 0.016627,
     "end_time": "2025-02-01T02:40:09.284999",
     "exception": false,
     "start_time": "2025-02-01T02:40:09.268372",
     "status": "completed"
    },
    "tags": []
   },
   "outputs": [],
   "source": [
    "enhanced_train_loader = DataLoader(enhanced_train_dataset, batch_size=batch_size, shuffle=True)\n",
    "enhanced_test_loader = DataLoader(enhanced_test_dataset, batch_size=batch_size, shuffle=False)\n",
    "enhanced_val_loader = DataLoader(enhanced_val_dataset, batch_size=batch_size, shuffle=False)"
   ]
  },
  {
   "cell_type": "code",
   "execution_count": 20,
   "id": "b7c266b8",
   "metadata": {
    "execution": {
     "iopub.execute_input": "2025-02-01T02:40:09.306765Z",
     "iopub.status.busy": "2025-02-01T02:40:09.306470Z",
     "iopub.status.idle": "2025-02-01T02:40:11.317452Z",
     "shell.execute_reply": "2025-02-01T02:40:11.316492Z"
    },
    "papermill": {
     "duration": 2.024886,
     "end_time": "2025-02-01T02:40:11.320214",
     "exception": false,
     "start_time": "2025-02-01T02:40:09.295328",
     "status": "completed"
    },
    "tags": []
   },
   "outputs": [
    {
     "data": {
      "image/png": "[encoded data removed]",
      "text/plain": [
       "<Figure size 1500x500 with 2 Axes>"
      ]
     },
     "metadata": {},
     "output_type": "display_data"
    },
    {
     "data": {
      "image/png": "[encoded data removed]",
      "text/plain": [
       "<Figure size 1500x500 with 2 Axes>"
      ]
     },
     "metadata": {},
     "output_type": "display_data"
    },
    {
     "data": {
      "image/png": "[encoded data removed]",
      "text/plain": [
       "<Figure size 1500x500 with 2 Axes>"
      ]
     },
     "metadata": {},
     "output_type": "display_data"
    }
   ],
   "source": [
    "idx = 55\n",
    "img, label = raw_dataset[idx]\n",
    "show_image_and_histogram(img, f\"LABEL- {raw_dataset.classes[label]}\")\n",
    "show_image_and_histogram(enhance_image(img, morphology_algorithm = cv2.MORPH_OPEN), f\"Enhanced Image (OPEN) - {raw_dataset.classes[label]}\")\n",
    "show_image_and_histogram(enhance_image(img, morphology_algorithm = cv2.MORPH_CLOSE), f\"Enhanced Image (CLOSE) - {raw_dataset.classes[label]}\")"
   ]
  },
  {
   "cell_type": "code",
   "execution_count": 21,
   "id": "8fdb6514",
   "metadata": {
    "execution": {
     "iopub.execute_input": "2025-02-01T02:40:11.354567Z",
     "iopub.status.busy": "2025-02-01T02:40:11.354051Z",
     "iopub.status.idle": "2025-02-01T02:40:11.370649Z",
     "shell.execute_reply": "2025-02-01T02:40:11.369747Z"
    },
    "jupyter": {
     "source_hidden": true
    },
    "papermill": {
     "duration": 0.03477,
     "end_time": "2025-02-01T02:40:11.372157",
     "exception": false,
     "start_time": "2025-02-01T02:40:11.337387",
     "status": "completed"
    },
    "tags": []
   },
   "outputs": [
    {
     "name": "stdout",
     "output_type": "stream",
     "text": [
      "Number of connected components: 95\n"
     ]
    }
   ],
   "source": [
    "enhanced_img = enhance_image(img, morphology_algorithm = cv2.MORPH_OPEN)\n",
    "enhanced_img = np.array(enhanced_img)\n",
    "t = cv2.cvtColor(enhanced_img, cv2.COLOR_RGB2GRAY) if enhanced_img.ndim == 3 else enhanced_img\n",
    "_, binary_img = cv2.threshold(t, 127, 255, cv2.THRESH_BINARY)\n",
    "num_components, labels = cv2.connectedComponents(binary_img)\n",
    "\n",
    "print(f\"Number of connected components: {num_components - 1}\")  # Subtract 1 to exclude the background (label 0)\n"
   ]
  },
  {
   "cell_type": "code",
   "execution_count": 22,
   "id": "1109ab87",
   "metadata": {
    "execution": {
     "iopub.execute_input": "2025-02-01T02:40:11.404279Z",
     "iopub.status.busy": "2025-02-01T02:40:11.404027Z",
     "iopub.status.idle": "2025-02-01T02:40:11.418678Z",
     "shell.execute_reply": "2025-02-01T02:40:11.417892Z"
    },
    "jupyter": {
     "source_hidden": true
    },
    "papermill": {
     "duration": 0.032205,
     "end_time": "2025-02-01T02:40:11.420111",
     "exception": false,
     "start_time": "2025-02-01T02:40:11.387906",
     "status": "completed"
    },
    "tags": []
   },
   "outputs": [
    {
     "name": "stdout",
     "output_type": "stream",
     "text": [
      "Number of connected components: 92\n"
     ]
    }
   ],
   "source": [
    "enhanced_img = enhance_image(img, morphology_algorithm = cv2.MORPH_CLOSE)\n",
    "enhanced_img = np.array(enhanced_img)\n",
    "t = cv2.cvtColor(enhanced_img, cv2.COLOR_RGB2GRAY) if enhanced_img.ndim == 3 else enhanced_img\n",
    "_, binary_img = cv2.threshold(t, 127, 255, cv2.THRESH_BINARY)\n",
    "num_components, labels = cv2.connectedComponents(binary_img)\n",
    "\n",
    "print(f\"Number of connected components: {num_components - 1}\")  # Subtract 1 to exclude the background (label 0)\n"
   ]
  },
  {
   "cell_type": "markdown",
   "id": "1ffc30a0",
   "metadata": {
    "papermill": {
     "duration": 0.014992,
     "end_time": "2025-02-01T02:40:11.450303",
     "exception": false,
     "start_time": "2025-02-01T02:40:11.435311",
     "status": "completed"
    },
    "tags": []
   },
   "source": [
    "### Problemas observados:\n"
   ]
  },
  {
   "cell_type": "markdown",
   "id": "79564d26",
   "metadata": {
    "papermill": {
     "duration": 0.0161,
     "end_time": "2025-02-01T02:40:11.481693",
     "exception": false,
     "start_time": "2025-02-01T02:40:11.465593",
     "status": "completed"
    },
    "tags": []
   },
   "source": [
    "### Melhorias propostas para o aprimoramento:\n",
    "- Não aplicar a maskara diretamente na original, e sim na original convertida em escala de cinza. Todos os 3 canais das imagens têm a mesma informação, são imagens RGB em tons de cinza.\n",
    "- Utilizar um elemento estruturante elíptico(arredondado)"
   ]
  },
  {
   "cell_type": "markdown",
   "id": "410d62d3",
   "metadata": {
    "papermill": {
     "duration": 0.015328,
     "end_time": "2025-02-01T02:40:11.512466",
     "exception": false,
     "start_time": "2025-02-01T02:40:11.497138",
     "status": "completed"
    },
    "tags": []
   },
   "source": [
    "# Convolutional Neural Network Architectures"
   ]
  },
  {
   "cell_type": "markdown",
   "id": "bc61eba9",
   "metadata": {
    "papermill": {
     "duration": 0.015403,
     "end_time": "2025-02-01T02:40:11.543677",
     "exception": false,
     "start_time": "2025-02-01T02:40:11.528274",
     "status": "completed"
    },
    "tags": []
   },
   "source": [
    "## Architectures"
   ]
  },
  {
   "cell_type": "code",
   "execution_count": 23,
   "id": "30b01ec9",
   "metadata": {
    "execution": {
     "iopub.execute_input": "2025-02-01T02:40:11.575903Z",
     "iopub.status.busy": "2025-02-01T02:40:11.575383Z",
     "iopub.status.idle": "2025-02-01T02:40:11.585126Z",
     "shell.execute_reply": "2025-02-01T02:40:11.584488Z"
    },
    "papermill": {
     "duration": 0.027861,
     "end_time": "2025-02-01T02:40:11.586755",
     "exception": false,
     "start_time": "2025-02-01T02:40:11.558894",
     "status": "completed"
    },
    "tags": []
   },
   "outputs": [],
   "source": [
    "class CNN5(nn.Module):\n",
    "    def __init__(self, input_channels, image_size = (128, 128)):\n",
    "        super(CNN5, self).__init__()\n",
    "        \n",
    "        self.n = 4 # número de operacoes de pooling\n",
    "\n",
    "        # calcular resolução final baseada no image_size\n",
    "        self.height, self.width = image_size\n",
    "        self.final_height = self.height // (2 ** self.n)\n",
    "        self.final_width = self.width // (2 ** self.n)\n",
    "\n",
    "        self.pool = nn.MaxPool2d(kernel_size=2, stride=2) \n",
    "\n",
    "        self.conv1_1 = nn.Conv2d(in_channels=input_channels, out_channels=16, kernel_size=3, padding=1)\n",
    "        \n",
    "        self.conv2_1 = nn.Conv2d(in_channels=16, out_channels=32, kernel_size=3, padding=1)\n",
    "        \n",
    "        self.conv3_1 = nn.Conv2d(in_channels=32, out_channels=32, kernel_size=3, padding=1)\n",
    "        self.conv3_2 = nn.Conv2d(in_channels=32, out_channels=48, kernel_size=3, padding=1)\n",
    "        \n",
    "        self.conv4_1 = nn.Conv2d(in_channels=48, out_channels=48, kernel_size=3, padding=1)\n",
    "\n",
    "        self.flattened_input_size = 48 * self.final_height * self.final_width\n",
    "        self.fc1 = nn.Linear(self.flattened_input_size, 1536)\n",
    "        self.fc2 = nn.Linear(1536, 512)\n",
    "        self.fc3 = nn.Linear(512, 4)  \n",
    "\n",
    "        self.dropout = nn.Dropout(p=0.4)\n",
    "\n",
    "    def forward(self, x):\n",
    "        x = F.relu(self.conv1_1(x))\n",
    "        x = self.pool(x)\n",
    "        \n",
    "        x = F.relu(self.conv2_1(x))\n",
    "        x = self.pool(x) \n",
    "        \n",
    "        x = F.relu(self.conv3_1(x))          \n",
    "        x = F.relu(self.conv3_2(x))\n",
    "        x = self.pool(x)  \n",
    "        \n",
    "        x = F.relu(self.conv4_1(x))\n",
    "        x = self.pool(x) \n",
    "        \n",
    "        x = x.view(-1, self.flattened_input_size)\n",
    "        x = F.relu(self.fc1(x))\n",
    "        x = self.dropout(x)\n",
    "        \n",
    "        x = F.relu(self.fc2(x))\n",
    "        x = self.dropout(x)\n",
    "        \n",
    "        x = F.relu(self.fc3(x))\n",
    "        \n",
    "        x = F.log_softmax(x, dim=1)\n",
    "        return x\n"
   ]
  },
  {
   "cell_type": "code",
   "execution_count": 24,
   "id": "607fc178",
   "metadata": {
    "execution": {
     "iopub.execute_input": "2025-02-01T02:40:11.618935Z",
     "iopub.status.busy": "2025-02-01T02:40:11.618705Z",
     "iopub.status.idle": "2025-02-01T02:40:11.628314Z",
     "shell.execute_reply": "2025-02-01T02:40:11.627495Z"
    },
    "papermill": {
     "duration": 0.027677,
     "end_time": "2025-02-01T02:40:11.629827",
     "exception": false,
     "start_time": "2025-02-01T02:40:11.602150",
     "status": "completed"
    },
    "tags": []
   },
   "outputs": [],
   "source": [
    "class CNN7(nn.Module):\n",
    "    def __init__(self, input_channels, image_size = (128, 128)):\n",
    "        super(CNN7, self).__init__()\n",
    "        \n",
    "        self.n = 4 # número de operacoes de pooling\n",
    "\n",
    "        # calcular resolução final baseada no image_size\n",
    "        self.height, self.width = image_size\n",
    "        self.final_height = self.height // (2 ** self.n)\n",
    "        self.final_width = self.width // (2 ** self.n)\n",
    "\n",
    "        self.pool = nn.MaxPool2d(kernel_size=2, stride=2)\n",
    "        \n",
    "        self.conv1_1 = nn.Conv2d(in_channels=input_channels, out_channels=16, kernel_size=3, padding=1)\n",
    "        \n",
    "        self.conv2_1 = nn.Conv2d(in_channels=16, out_channels=16, kernel_size=3, padding=1)\n",
    "        self.conv2_2 = nn.Conv2d(in_channels=16, out_channels=32, kernel_size=3, padding=1)\n",
    "        \n",
    "        self.conv3_1 = nn.Conv2d(in_channels=32, out_channels=32, kernel_size=3, padding=1)\n",
    "        self.conv3_2 = nn.Conv2d(in_channels=32, out_channels=32, kernel_size=3, padding=1)\n",
    "        self.conv3_3 = nn.Conv2d(in_channels=32, out_channels=48, kernel_size=3, padding=1)\n",
    "        \n",
    "        self.conv4_1 = nn.Conv2d(in_channels=48, out_channels=48, kernel_size=3, padding=1)\n",
    "\n",
    "        self.flattened_input_size = 48 * self.final_height * self.final_width\n",
    "        self.fc1 = nn.Linear(self.flattened_input_size, 1536)  \n",
    "        self.fc2 = nn.Linear(1536, 512)\n",
    "        self.fc3 = nn.Linear(512, 4) \n",
    "\n",
    "        self.dropout = nn.Dropout(p=0.4)\n",
    "        \n",
    "    def forward(self, x):\n",
    "        x = F.relu(self.conv1_1(x))\n",
    "        x = self.pool(x) \n",
    "        \n",
    "        x = F.relu(self.conv2_1(x))        \n",
    "        x = F.relu(self.conv2_2(x))\n",
    "        x = self.pool(x)  \n",
    "        \n",
    "        x = F.relu(self.conv3_1(x))          \n",
    "        x = F.relu(self.conv3_2(x))           \n",
    "        x = F.relu(self.conv3_3(x))   \n",
    "        x = self.pool(x)   \n",
    "        \n",
    "        x = F.relu(self.conv4_1(x))\n",
    "        x = self.pool(x)   \n",
    "        \n",
    "        x = x.view(-1, self.flattened_input_size)\n",
    "        x = F.relu(self.fc1(x))       \n",
    "        x = self.dropout(x)\n",
    "        x = F.relu(self.fc2(x))\n",
    "        x = self.dropout(x)\n",
    "        x = F.log_softmax(self.fc3(x), dim=1)\n",
    "        # TODO: nao aplicar a relu antes de passar para o log_softmax\n",
    "        \n",
    "        return x\n",
    "\n"
   ]
  },
  {
   "cell_type": "code",
   "execution_count": 25,
   "id": "45ea9fa0",
   "metadata": {
    "execution": {
     "iopub.execute_input": "2025-02-01T02:40:11.661923Z",
     "iopub.status.busy": "2025-02-01T02:40:11.661087Z",
     "iopub.status.idle": "2025-02-01T02:40:11.672088Z",
     "shell.execute_reply": "2025-02-01T02:40:11.671295Z"
    },
    "papermill": {
     "duration": 0.028623,
     "end_time": "2025-02-01T02:40:11.673705",
     "exception": false,
     "start_time": "2025-02-01T02:40:11.645082",
     "status": "completed"
    },
    "tags": []
   },
   "outputs": [],
   "source": [
    "class CNN9(nn.Module):\n",
    "    def __init__(self, input_channels, image_size = (128, 128)):\n",
    "        super(CNN9, self).__init__()\n",
    "        \n",
    "        self.n = 4 # número de operacoes de pooling\n",
    "\n",
    "        # calcular resolução final baseada no image_size\n",
    "        self.height, self.width = image_size\n",
    "        self.final_height = self.height // (2 ** self.n)\n",
    "        self.final_width = self.width // (2 ** self.n)\n",
    "        \n",
    "        self.pool = nn.MaxPool2d(kernel_size=2, stride=2)\n",
    "        \n",
    "        self.conv1_1 = nn.Conv2d(in_channels=input_channels, out_channels=16, kernel_size=3, padding=1)\n",
    "        \n",
    "        self.conv2_1 = nn.Conv2d(in_channels=16, out_channels=16, kernel_size=3, padding=1)\n",
    "        self.conv2_2 = nn.Conv2d(in_channels=16, out_channels=32, kernel_size=3, padding=1)\n",
    "        \n",
    "        self.conv3_1 = nn.Conv2d(in_channels=32, out_channels=32, kernel_size=3, padding=1)\n",
    "        self.conv3_2 = nn.Conv2d(in_channels=32, out_channels=32, kernel_size=3, padding=1)\n",
    "        self.conv3_3 = nn.Conv2d(in_channels=32, out_channels=48, kernel_size=3, padding=1)\n",
    "        \n",
    "        self.conv4_1 = nn.Conv2d(in_channels=48, out_channels=48, kernel_size=3, padding=1)\n",
    "        self.conv4_2 = nn.Conv2d(in_channels=48, out_channels=48, kernel_size=3, padding=1)\n",
    "        self.conv4_3 = nn.Conv2d(in_channels=48, out_channels=64, kernel_size=3, padding=1)\n",
    "\n",
    "        self.flattened_input_size = 64 * self.final_height * self.final_width\n",
    "        self.fc1 = nn.Linear(64 * self.final_height * self.final_width, 512) \n",
    "        self.fc2 = nn.Linear(512, 128)\n",
    "        self.fc3 = nn.Linear(128, 4)\n",
    "        \n",
    "        self.dropout = nn.Dropout(p=0.4)\n",
    "        \n",
    "    def forward(self, x):\n",
    "        x = F.relu(self.conv1_1(x))\n",
    "        x = self.pool(x) \n",
    "        \n",
    "        x = F.relu(self.conv2_1(x))\n",
    "        x = F.relu(self.conv2_2(x))\n",
    "        x = self.pool(x)\n",
    "        \n",
    "        x = F.relu(self.conv3_1(x))          \n",
    "        x = F.relu(self.conv3_2(x))\n",
    "        x = F.relu(self.conv3_3(x))\n",
    "        x = self.pool(x) \n",
    "        \n",
    "        x = F.relu(self.conv4_1(x)) \n",
    "        x = F.relu(self.conv4_2(x))\n",
    "        x = F.relu(self.conv4_3(x))\n",
    "        x = self.pool(x)\n",
    "        \n",
    "        x = x.view(-1, self.flattened_input_size)\n",
    "        x = F.relu(self.fc1(x))\n",
    "        x = self.dropout(x)    \n",
    "        x = F.relu(self.fc2(x))\n",
    "        x = self.dropout(x)\n",
    "        x = F.relu(self.fc3(x))\n",
    "        \n",
    "        x = F.log_softmax(x, dim=1)\n",
    "        return x"
   ]
  },
  {
   "cell_type": "markdown",
   "id": "682ab2a0",
   "metadata": {
    "papermill": {
     "duration": 0.015291,
     "end_time": "2025-02-01T02:40:11.704217",
     "exception": false,
     "start_time": "2025-02-01T02:40:11.688926",
     "status": "completed"
    },
    "tags": []
   },
   "source": [
    "## Initializing CNNs"
   ]
  },
  {
   "cell_type": "code",
   "execution_count": 26,
   "id": "ec9c40b7",
   "metadata": {
    "execution": {
     "iopub.execute_input": "2025-02-01T02:40:11.735864Z",
     "iopub.status.busy": "2025-02-01T02:40:11.735394Z",
     "iopub.status.idle": "2025-02-01T02:40:11.739057Z",
     "shell.execute_reply": "2025-02-01T02:40:11.738269Z"
    },
    "papermill": {
     "duration": 0.021078,
     "end_time": "2025-02-01T02:40:11.740578",
     "exception": false,
     "start_time": "2025-02-01T02:40:11.719500",
     "status": "completed"
    },
    "tags": []
   },
   "outputs": [],
   "source": [
    "# Hiperparâmetros\n",
    "learning_rate = 0.001\n",
    "\n",
    "# config\n",
    "epochs = 10\n",
    "# epochs = 10 if device != \"cpu\" else 1"
   ]
  },
  {
   "cell_type": "code",
   "execution_count": 27,
   "id": "69cbbd45",
   "metadata": {
    "execution": {
     "iopub.execute_input": "2025-02-01T02:40:11.772048Z",
     "iopub.status.busy": "2025-02-01T02:40:11.771799Z",
     "iopub.status.idle": "2025-02-01T02:40:12.052427Z",
     "shell.execute_reply": "2025-02-01T02:40:12.051542Z"
    },
    "papermill": {
     "duration": 0.298346,
     "end_time": "2025-02-01T02:40:12.054241",
     "exception": false,
     "start_time": "2025-02-01T02:40:11.755895",
     "status": "completed"
    },
    "tags": []
   },
   "outputs": [
    {
     "data": {
      "text/plain": [
       "CNN5(\n",
       "  (pool): MaxPool2d(kernel_size=2, stride=2, padding=0, dilation=1, ceil_mode=False)\n",
       "  (conv1_1): Conv2d(3, 16, kernel_size=(3, 3), stride=(1, 1), padding=(1, 1))\n",
       "  (conv2_1): Conv2d(16, 32, kernel_size=(3, 3), stride=(1, 1), padding=(1, 1))\n",
       "  (conv3_1): Conv2d(32, 32, kernel_size=(3, 3), stride=(1, 1), padding=(1, 1))\n",
       "  (conv3_2): Conv2d(32, 48, kernel_size=(3, 3), stride=(1, 1), padding=(1, 1))\n",
       "  (conv4_1): Conv2d(48, 48, kernel_size=(3, 3), stride=(1, 1), padding=(1, 1))\n",
       "  (fc1): Linear(in_features=3072, out_features=1536, bias=True)\n",
       "  (fc2): Linear(in_features=1536, out_features=512, bias=True)\n",
       "  (fc3): Linear(in_features=512, out_features=4, bias=True)\n",
       "  (dropout): Dropout(p=0.4, inplace=False)\n",
       ")"
      ]
     },
     "execution_count": 27,
     "metadata": {},
     "output_type": "execute_result"
    }
   ],
   "source": [
    "model_cnn5 = CNN5(input_channels=input_channels).to(device) \n",
    "criterion_cnn5 = nn.NLLLoss()\n",
    "optimizer_cnn5 = optim.Adam(model_cnn5.parameters(), lr=learning_rate)\n",
    "model_cnn5"
   ]
  },
  {
   "cell_type": "code",
   "execution_count": 28,
   "id": "4cc55b0a",
   "metadata": {
    "execution": {
     "iopub.execute_input": "2025-02-01T02:40:12.086810Z",
     "iopub.status.busy": "2025-02-01T02:40:12.086559Z",
     "iopub.status.idle": "2025-02-01T02:40:12.146324Z",
     "shell.execute_reply": "2025-02-01T02:40:12.145583Z"
    },
    "papermill": {
     "duration": 0.077804,
     "end_time": "2025-02-01T02:40:12.148018",
     "exception": false,
     "start_time": "2025-02-01T02:40:12.070214",
     "status": "completed"
    },
    "tags": []
   },
   "outputs": [
    {
     "data": {
      "text/plain": [
       "CNN7(\n",
       "  (pool): MaxPool2d(kernel_size=2, stride=2, padding=0, dilation=1, ceil_mode=False)\n",
       "  (conv1_1): Conv2d(3, 16, kernel_size=(3, 3), stride=(1, 1), padding=(1, 1))\n",
       "  (conv2_1): Conv2d(16, 16, kernel_size=(3, 3), stride=(1, 1), padding=(1, 1))\n",
       "  (conv2_2): Conv2d(16, 32, kernel_size=(3, 3), stride=(1, 1), padding=(1, 1))\n",
       "  (conv3_1): Conv2d(32, 32, kernel_size=(3, 3), stride=(1, 1), padding=(1, 1))\n",
       "  (conv3_2): Conv2d(32, 32, kernel_size=(3, 3), stride=(1, 1), padding=(1, 1))\n",
       "  (conv3_3): Conv2d(32, 48, kernel_size=(3, 3), stride=(1, 1), padding=(1, 1))\n",
       "  (conv4_1): Conv2d(48, 48, kernel_size=(3, 3), stride=(1, 1), padding=(1, 1))\n",
       "  (fc1): Linear(in_features=3072, out_features=1536, bias=True)\n",
       "  (fc2): Linear(in_features=1536, out_features=512, bias=True)\n",
       "  (fc3): Linear(in_features=512, out_features=4, bias=True)\n",
       "  (dropout): Dropout(p=0.4, inplace=False)\n",
       ")"
      ]
     },
     "execution_count": 28,
     "metadata": {},
     "output_type": "execute_result"
    }
   ],
   "source": [
    "model_cnn7 = CNN7(input_channels=input_channels).to(device) \n",
    "criterion_cnn7 = nn.NLLLoss()\n",
    "optimizer_cnn7 = optim.Adam(model_cnn7.parameters(), lr=learning_rate)\n",
    "model_cnn7"
   ]
  },
  {
   "cell_type": "code",
   "execution_count": 29,
   "id": "14ee45d5",
   "metadata": {
    "execution": {
     "iopub.execute_input": "2025-02-01T02:40:12.180981Z",
     "iopub.status.busy": "2025-02-01T02:40:12.180713Z",
     "iopub.status.idle": "2025-02-01T02:40:12.204750Z",
     "shell.execute_reply": "2025-02-01T02:40:12.203939Z"
    },
    "papermill": {
     "duration": 0.042435,
     "end_time": "2025-02-01T02:40:12.206224",
     "exception": false,
     "start_time": "2025-02-01T02:40:12.163789",
     "status": "completed"
    },
    "tags": []
   },
   "outputs": [
    {
     "data": {
      "text/plain": [
       "CNN9(\n",
       "  (pool): MaxPool2d(kernel_size=2, stride=2, padding=0, dilation=1, ceil_mode=False)\n",
       "  (conv1_1): Conv2d(3, 16, kernel_size=(3, 3), stride=(1, 1), padding=(1, 1))\n",
       "  (conv2_1): Conv2d(16, 16, kernel_size=(3, 3), stride=(1, 1), padding=(1, 1))\n",
       "  (conv2_2): Conv2d(16, 32, kernel_size=(3, 3), stride=(1, 1), padding=(1, 1))\n",
       "  (conv3_1): Conv2d(32, 32, kernel_size=(3, 3), stride=(1, 1), padding=(1, 1))\n",
       "  (conv3_2): Conv2d(32, 32, kernel_size=(3, 3), stride=(1, 1), padding=(1, 1))\n",
       "  (conv3_3): Conv2d(32, 48, kernel_size=(3, 3), stride=(1, 1), padding=(1, 1))\n",
       "  (conv4_1): Conv2d(48, 48, kernel_size=(3, 3), stride=(1, 1), padding=(1, 1))\n",
       "  (conv4_2): Conv2d(48, 48, kernel_size=(3, 3), stride=(1, 1), padding=(1, 1))\n",
       "  (conv4_3): Conv2d(48, 64, kernel_size=(3, 3), stride=(1, 1), padding=(1, 1))\n",
       "  (fc1): Linear(in_features=4096, out_features=512, bias=True)\n",
       "  (fc2): Linear(in_features=512, out_features=128, bias=True)\n",
       "  (fc3): Linear(in_features=128, out_features=4, bias=True)\n",
       "  (dropout): Dropout(p=0.4, inplace=False)\n",
       ")"
      ]
     },
     "execution_count": 29,
     "metadata": {},
     "output_type": "execute_result"
    }
   ],
   "source": [
    "model_cnn9 = CNN9(input_channels=input_channels).to(device) \n",
    "criterion_cnn9 = nn.NLLLoss()\n",
    "optimizer_cnn9 = optim.Adam(model_cnn9.parameters(), lr=learning_rate)\n",
    "model_cnn9"
   ]
  },
  {
   "cell_type": "code",
   "execution_count": 30,
   "id": "c081229d",
   "metadata": {
    "execution": {
     "iopub.execute_input": "2025-02-01T02:40:12.238761Z",
     "iopub.status.busy": "2025-02-01T02:40:12.238467Z",
     "iopub.status.idle": "2025-02-01T02:40:12.296364Z",
     "shell.execute_reply": "2025-02-01T02:40:12.295667Z"
    },
    "papermill": {
     "duration": 0.076167,
     "end_time": "2025-02-01T02:40:12.297977",
     "exception": false,
     "start_time": "2025-02-01T02:40:12.221810",
     "status": "completed"
    },
    "tags": []
   },
   "outputs": [
    {
     "data": {
      "text/plain": [
       "CNN7(\n",
       "  (pool): MaxPool2d(kernel_size=2, stride=2, padding=0, dilation=1, ceil_mode=False)\n",
       "  (conv1_1): Conv2d(3, 16, kernel_size=(3, 3), stride=(1, 1), padding=(1, 1))\n",
       "  (conv2_1): Conv2d(16, 16, kernel_size=(3, 3), stride=(1, 1), padding=(1, 1))\n",
       "  (conv2_2): Conv2d(16, 32, kernel_size=(3, 3), stride=(1, 1), padding=(1, 1))\n",
       "  (conv3_1): Conv2d(32, 32, kernel_size=(3, 3), stride=(1, 1), padding=(1, 1))\n",
       "  (conv3_2): Conv2d(32, 32, kernel_size=(3, 3), stride=(1, 1), padding=(1, 1))\n",
       "  (conv3_3): Conv2d(32, 48, kernel_size=(3, 3), stride=(1, 1), padding=(1, 1))\n",
       "  (conv4_1): Conv2d(48, 48, kernel_size=(3, 3), stride=(1, 1), padding=(1, 1))\n",
       "  (fc1): Linear(in_features=3072, out_features=1536, bias=True)\n",
       "  (fc2): Linear(in_features=1536, out_features=512, bias=True)\n",
       "  (fc3): Linear(in_features=512, out_features=4, bias=True)\n",
       "  (dropout): Dropout(p=0.4, inplace=False)\n",
       ")"
      ]
     },
     "execution_count": 30,
     "metadata": {},
     "output_type": "execute_result"
    }
   ],
   "source": [
    "model_cnn7_enhanced = CNN7(input_channels=input_channels).to(device) \n",
    "criterion_cnn7_enhanced = nn.NLLLoss()\n",
    "optimizer_cnn7_enhanced = optim.Adam(model_cnn7_enhanced.parameters(), lr=learning_rate)\n",
    "model_cnn7_enhanced"
   ]
  },
  {
   "cell_type": "markdown",
   "id": "1151b2ea",
   "metadata": {
    "papermill": {
     "duration": 0.015357,
     "end_time": "2025-02-01T02:40:12.329333",
     "exception": false,
     "start_time": "2025-02-01T02:40:12.313976",
     "status": "completed"
    },
    "tags": []
   },
   "source": [
    "## Treinamento"
   ]
  },
  {
   "cell_type": "markdown",
   "id": "61d8462e",
   "metadata": {
    "papermill": {
     "duration": 0.015517,
     "end_time": "2025-02-01T02:40:12.360423",
     "exception": false,
     "start_time": "2025-02-01T02:40:12.344906",
     "status": "completed"
    },
    "tags": []
   },
   "source": [
    "### Utils"
   ]
  },
  {
   "cell_type": "code",
   "execution_count": 31,
   "id": "6e81e5c1",
   "metadata": {
    "execution": {
     "iopub.execute_input": "2025-02-01T02:40:12.394330Z",
     "iopub.status.busy": "2025-02-01T02:40:12.393808Z",
     "iopub.status.idle": "2025-02-01T02:40:12.399104Z",
     "shell.execute_reply": "2025-02-01T02:40:12.398314Z"
    },
    "jupyter": {
     "source_hidden": true
    },
    "papermill": {
     "duration": 0.024779,
     "end_time": "2025-02-01T02:40:12.400804",
     "exception": false,
     "start_time": "2025-02-01T02:40:12.376025",
     "status": "completed"
    },
    "tags": []
   },
   "outputs": [],
   "source": [
    "def train(model, train_loader, epochs=10, optimizer=None, criterion=None ):\n",
    "    model.train()  # Colocar o modelo em modo de treino\n",
    "    for epoch in range(epochs):\n",
    "        running_loss = 0.0\n",
    "        for inputs, labels in tqdm(train_loader, desc=f'Epoch {epoch + 1}/{epochs}', leave=True):\n",
    "            inputs, labels = inputs.to(device), labels.to(device)\n",
    "            optimizer.zero_grad()  # Zerar gradientes\n",
    "            outputs = model(inputs)  # Forward pass\n",
    "            loss = criterion(outputs, labels)  # Calcular a perda\n",
    "            \n",
    "            loss.backward()  # Backward pass\n",
    "            optimizer.step()  # Atualizar pesos\n",
    "            running_loss += loss.item()\n",
    "        avg_loss = running_loss / len(train_loader)  # Cálculo da perda média\n",
    "\n"
   ]
  },
  {
   "cell_type": "code",
   "execution_count": 32,
   "id": "26ba81ce",
   "metadata": {
    "execution": {
     "iopub.execute_input": "2025-02-01T02:40:12.433885Z",
     "iopub.status.busy": "2025-02-01T02:40:12.433236Z",
     "iopub.status.idle": "2025-02-01T02:40:12.436828Z",
     "shell.execute_reply": "2025-02-01T02:40:12.436005Z"
    },
    "papermill": {
     "duration": 0.021551,
     "end_time": "2025-02-01T02:40:12.438436",
     "exception": false,
     "start_time": "2025-02-01T02:40:12.416885",
     "status": "completed"
    },
    "tags": []
   },
   "outputs": [],
   "source": [
    "# TODO: acumular o history do treinamento"
   ]
  },
  {
   "cell_type": "markdown",
   "id": "1e0c9b1e",
   "metadata": {
    "papermill": {
     "duration": 0.016521,
     "end_time": "2025-02-01T02:40:12.470775",
     "exception": false,
     "start_time": "2025-02-01T02:40:12.454254",
     "status": "completed"
    },
    "tags": []
   },
   "source": [
    "### Train"
   ]
  },
  {
   "cell_type": "code",
   "execution_count": 33,
   "id": "5cb3b779",
   "metadata": {
    "execution": {
     "iopub.execute_input": "2025-02-01T02:40:12.503782Z",
     "iopub.status.busy": "2025-02-01T02:40:12.503313Z",
     "iopub.status.idle": "2025-02-01T02:40:12.506696Z",
     "shell.execute_reply": "2025-02-01T02:40:12.505901Z"
    },
    "papermill": {
     "duration": 0.021379,
     "end_time": "2025-02-01T02:40:12.508247",
     "exception": false,
     "start_time": "2025-02-01T02:40:12.486868",
     "status": "completed"
    },
    "tags": []
   },
   "outputs": [],
   "source": [
    "# train(model_cnn5, train_loader, epochs=epochs, criterion=criterion_cnn5, optimizer=optimizer_cnn5)"
   ]
  },
  {
   "cell_type": "code",
   "execution_count": 34,
   "id": "5bfe112e",
   "metadata": {
    "execution": {
     "iopub.execute_input": "2025-02-01T02:40:12.540787Z",
     "iopub.status.busy": "2025-02-01T02:40:12.540292Z",
     "iopub.status.idle": "2025-02-01T04:00:39.559223Z",
     "shell.execute_reply": "2025-02-01T04:00:39.558409Z"
    },
    "papermill": {
     "duration": 4827.03742,
     "end_time": "2025-02-01T04:00:39.561406",
     "exception": false,
     "start_time": "2025-02-01T02:40:12.523986",
     "status": "completed"
    },
    "tags": []
   },
   "outputs": [
    {
     "name": "stderr",
     "output_type": "stream",
     "text": [
      "Epoch 1/10: 100%|██████████| 897/897 [16:02<00:00,  1.07s/it]\n",
      "Epoch 2/10: 100%|██████████| 897/897 [07:09<00:00,  2.09it/s]\n",
      "Epoch 3/10: 100%|██████████| 897/897 [07:07<00:00,  2.10it/s]\n",
      "Epoch 4/10: 100%|██████████| 897/897 [07:07<00:00,  2.10it/s]\n",
      "Epoch 5/10: 100%|██████████| 897/897 [07:09<00:00,  2.09it/s]\n",
      "Epoch 6/10: 100%|██████████| 897/897 [07:09<00:00,  2.09it/s]\n",
      "Epoch 7/10: 100%|██████████| 897/897 [07:11<00:00,  2.08it/s]\n",
      "Epoch 8/10: 100%|██████████| 897/897 [07:07<00:00,  2.10it/s]\n",
      "Epoch 9/10: 100%|██████████| 897/897 [07:11<00:00,  2.08it/s]\n",
      "Epoch 10/10: 100%|██████████| 897/897 [07:11<00:00,  2.08it/s]\n"
     ]
    }
   ],
   "source": [
    "train(model_cnn7, train_loader, epochs=epochs, optimizer=optimizer_cnn7, criterion=criterion_cnn7)"
   ]
  },
  {
   "cell_type": "code",
   "execution_count": 35,
   "id": "964b4873",
   "metadata": {
    "execution": {
     "iopub.execute_input": "2025-02-01T04:00:40.486178Z",
     "iopub.status.busy": "2025-02-01T04:00:40.485871Z",
     "iopub.status.idle": "2025-02-01T04:00:40.490167Z",
     "shell.execute_reply": "2025-02-01T04:00:40.489314Z"
    },
    "papermill": {
     "duration": 0.412642,
     "end_time": "2025-02-01T04:00:40.491824",
     "exception": false,
     "start_time": "2025-02-01T04:00:40.079182",
     "status": "completed"
    },
    "tags": []
   },
   "outputs": [],
   "source": [
    "# train(model_cnn9, train_loader, epochs=epochs, optimizer=optimizer_cnn9, criterion=criterion_cnn9)"
   ]
  },
  {
   "cell_type": "code",
   "execution_count": 36,
   "id": "471e7da2",
   "metadata": {
    "execution": {
     "iopub.execute_input": "2025-02-01T04:00:41.343669Z",
     "iopub.status.busy": "2025-02-01T04:00:41.343324Z",
     "iopub.status.idle": "2025-02-01T07:34:14.261678Z",
     "shell.execute_reply": "2025-02-01T07:34:14.260779Z"
    },
    "papermill": {
     "duration": 12813.321677,
     "end_time": "2025-02-01T07:34:14.263498",
     "exception": false,
     "start_time": "2025-02-01T04:00:40.941821",
     "status": "completed"
    },
    "tags": []
   },
   "outputs": [
    {
     "name": "stderr",
     "output_type": "stream",
     "text": [
      "Epoch 1/10: 100%|██████████| 897/897 [21:16<00:00,  1.42s/it]\n",
      "Epoch 2/10: 100%|██████████| 897/897 [20:33<00:00,  1.38s/it]\n",
      "Epoch 3/10: 100%|██████████| 897/897 [20:52<00:00,  1.40s/it]\n",
      "Epoch 4/10: 100%|██████████| 897/897 [21:52<00:00,  1.46s/it]\n",
      "Epoch 5/10: 100%|██████████| 897/897 [21:18<00:00,  1.43s/it]\n",
      "Epoch 6/10: 100%|██████████| 897/897 [21:32<00:00,  1.44s/it]\n",
      "Epoch 7/10: 100%|██████████| 897/897 [21:23<00:00,  1.43s/it]\n",
      "Epoch 8/10: 100%|██████████| 897/897 [21:43<00:00,  1.45s/it]\n",
      "Epoch 9/10: 100%|██████████| 897/897 [21:36<00:00,  1.44s/it]\n",
      "Epoch 10/10: 100%|██████████| 897/897 [21:23<00:00,  1.43s/it]\n"
     ]
    }
   ],
   "source": [
    "train(model_cnn7_enhanced, enhanced_train_loader, epochs=epochs, optimizer=optimizer_cnn7_enhanced, criterion=criterion_cnn7_enhanced)"
   ]
  },
  {
   "cell_type": "markdown",
   "id": "79c5800a",
   "metadata": {
    "papermill": {
     "duration": 0.886613,
     "end_time": "2025-02-01T07:34:16.023708",
     "exception": false,
     "start_time": "2025-02-01T07:34:15.137095",
     "status": "completed"
    },
    "tags": []
   },
   "source": [
    "## Validation"
   ]
  },
  {
   "cell_type": "markdown",
   "id": "0128439d",
   "metadata": {
    "papermill": {
     "duration": 0.86642,
     "end_time": "2025-02-01T07:34:17.680092",
     "exception": false,
     "start_time": "2025-02-01T07:34:16.813672",
     "status": "completed"
    },
    "tags": []
   },
   "source": [
    "### Utils"
   ]
  },
  {
   "cell_type": "code",
   "execution_count": 37,
   "id": "3317e7b7",
   "metadata": {
    "execution": {
     "iopub.execute_input": "2025-02-01T07:34:19.402622Z",
     "iopub.status.busy": "2025-02-01T07:34:19.401379Z",
     "iopub.status.idle": "2025-02-01T07:34:19.409170Z",
     "shell.execute_reply": "2025-02-01T07:34:19.408370Z"
    },
    "jupyter": {
     "source_hidden": true
    },
    "papermill": {
     "duration": 0.893115,
     "end_time": "2025-02-01T07:34:19.410787",
     "exception": false,
     "start_time": "2025-02-01T07:34:18.517672",
     "status": "completed"
    },
    "tags": []
   },
   "outputs": [],
   "source": [
    "def eval(model, test_loader): #TODO: precisa receber a função de perda\n",
    "    model.eval()  # Coloca o modelo em modo de avaliação\n",
    "    all_preds, all_labels = [], []\n",
    "    with torch.no_grad():  # Desabilitar o cálculo de gradiente para economizar memória\n",
    "        for inputs, labels in tqdm(test_loader, desc=\"Test Progress\", leave=True):\n",
    "            inputs, labels = inputs.to(device), labels.to(device)\n",
    "            outputs = model(inputs)\n",
    "            _, preds = torch.max(outputs, 1)   \n",
    "            all_preds.extend(preds.cpu().numpy())\n",
    "            all_labels.extend(labels.cpu().numpy()) \n",
    "    return all_preds, all_labels"
   ]
  },
  {
   "cell_type": "code",
   "execution_count": 38,
   "id": "60cdabf3",
   "metadata": {
    "execution": {
     "iopub.execute_input": "2025-02-01T07:34:21.149609Z",
     "iopub.status.busy": "2025-02-01T07:34:21.149168Z",
     "iopub.status.idle": "2025-02-01T07:34:21.158717Z",
     "shell.execute_reply": "2025-02-01T07:34:21.157863Z"
    },
    "jupyter": {
     "source_hidden": true
    },
    "papermill": {
     "duration": 0.906988,
     "end_time": "2025-02-01T07:34:21.160385",
     "exception": false,
     "start_time": "2025-02-01T07:34:20.253397",
     "status": "completed"
    },
    "tags": []
   },
   "outputs": [],
   "source": [
    "def calculate_metrics(cm, classes): \n",
    "    #TODO: CORRIGIR(ACCURACY ERRADA)\n",
    "    metrics = {}\n",
    "    \n",
    "    # Para cada classe\n",
    "    for i, class_name in enumerate(classes):\n",
    "        TP = cm[i, i]\n",
    "        FP = cm[:, i].sum() - TP  # Soma da coluna - TP\n",
    "        FN = cm[i, :].sum() - TP  # Soma da linha - TP\n",
    "        TN = cm.sum() - (TP + FP + FN)\n",
    "    \n",
    "        # accuracy = (TP + TN) / cm.sum()\n",
    "        accuracy = (TP + TN) / (FP + FN + TP + TN)\n",
    "        precision = TP / (TP + FP) if (TP + FP) > 0 else 0\n",
    "        sensitivity = TP / (TP + FN) if (TP + FN) > 0 else 0\n",
    "        specificity = TN / (TN + FP) if (TN + FP) > 0 else 0 \n",
    "        f1_score = (2 * TP) / (FP + FN + (2* TP)) if (FP + FN + (2* TP)) > 0 else 0\n",
    "        \n",
    "        metrics[class_name] = {\n",
    "            \"Acurácia\": accuracy,\n",
    "            \"Precision\": precision,\n",
    "            \"Sensitivity/Recall\": sensitivity,\n",
    "            \"Specificity\": specificity,\n",
    "            \"F1-Score\": f1_score\n",
    "        }\n",
    "    \n",
    "    return pd.DataFrame(metrics)"
   ]
  },
  {
   "cell_type": "code",
   "execution_count": 39,
   "id": "4457368c",
   "metadata": {
    "execution": {
     "iopub.execute_input": "2025-02-01T07:34:22.828795Z",
     "iopub.status.busy": "2025-02-01T07:34:22.828426Z",
     "iopub.status.idle": "2025-02-01T07:34:22.833250Z",
     "shell.execute_reply": "2025-02-01T07:34:22.832578Z"
    },
    "jupyter": {
     "source_hidden": true
    },
    "papermill": {
     "duration": 0.839469,
     "end_time": "2025-02-01T07:34:22.834818",
     "exception": false,
     "start_time": "2025-02-01T07:34:21.995349",
     "status": "completed"
    },
    "tags": []
   },
   "outputs": [],
   "source": [
    "def evaluate_model(model, test_loader, eval_function, calculate_metrics_function, classes):\n",
    "    # Avaliação do modelo\n",
    "    all_preds, all_labels = eval_function(model, test_loader)\n",
    "\n",
    "    # Matriz de Confusão\n",
    "    cm = confusion_matrix(all_labels, all_preds)\n",
    "    \n",
    "    # Cálculo das métricas\n",
    "    metrics = calculate_metrics_function(cm, classes)\n",
    "\n",
    "    # return cm, metrics\n",
    "    return {\n",
    "        \"all_preds\": all_preds,\n",
    "        \"all_labels\": all_labels,\n",
    "        \"cm\": cm,\n",
    "        \"metrics\": metrics,\n",
    "    }"
   ]
  },
  {
   "cell_type": "code",
   "execution_count": 40,
   "id": "11668054",
   "metadata": {
    "execution": {
     "iopub.execute_input": "2025-02-01T07:34:24.509243Z",
     "iopub.status.busy": "2025-02-01T07:34:24.508903Z",
     "iopub.status.idle": "2025-02-01T07:34:24.518353Z",
     "shell.execute_reply": "2025-02-01T07:34:24.517560Z"
    },
    "papermill": {
     "duration": 0.846814,
     "end_time": "2025-02-01T07:34:24.520291",
     "exception": false,
     "start_time": "2025-02-01T07:34:23.673477",
     "status": "completed"
    },
    "tags": []
   },
   "outputs": [],
   "source": [
    "from sklearn.metrics import precision_score, recall_score, f1_score, confusion_matrix, cohen_kappa_score\n",
    "\n",
    "def calculate_metrics_per_class(y_true, y_pred, class_names=None):\n",
    "    unique_classes = sorted(set(y_true))\n",
    "    metrics_per_class = {}\n",
    "    for idx, class_label in enumerate(unique_classes):\n",
    "        precision = precision_score(y_true, y_pred, labels=[class_label], average='macro', zero_division=0)\n",
    "        recall = recall_score(y_true, y_pred, labels=[class_label], average='macro', zero_division=0)    \n",
    "        class_name = class_names[class_label] if class_names else class_label\n",
    "        metrics_per_class[class_name] = {\n",
    "            \"precision\": precision,\n",
    "            \"recall\": recall,\n",
    "        }\n",
    "    return metrics_per_class\n",
    "\n",
    "def calculate_overall_metrics(y_true, y_pred):\n",
    "    cm = confusion_matrix(y_true, y_pred)\n",
    "    accuracy = accuracy_score(y_true, y_pred)\n",
    "    sensitivity = cm.diagonal() / cm.sum(axis=1)\n",
    "    avg_sensitivity = sensitivity.mean()\n",
    "    specificity = []\n",
    "    for i in range(len(cm)):\n",
    "        tn = cm.sum() - (cm[i, :].sum() + cm[:, i].sum() - cm[i, i])\n",
    "        fp = cm[:, i].sum() - cm[i, i]\n",
    "        specificity.append(tn / (tn + fp) if (tn + fp) != 0 else 0)\n",
    "    avg_specificity = sum(specificity) / len(specificity)\n",
    "    f1 = f1_score(y_true, y_pred, average='macro', zero_division=0)\n",
    "    kappa = cohen_kappa_score(y_true, y_pred)\n",
    "    return {\n",
    "        \"accuracy\": accuracy,\n",
    "        \"sensitivity\": avg_sensitivity,\n",
    "        \"specificity\": avg_specificity,\n",
    "        \"f1_score\": f1,\n",
    "        \"kappa\": kappa\n",
    "    }"
   ]
  },
  {
   "cell_type": "markdown",
   "id": "72299c12",
   "metadata": {
    "papermill": {
     "duration": 0.844159,
     "end_time": "2025-02-01T07:34:26.160756",
     "exception": false,
     "start_time": "2025-02-01T07:34:25.316597",
     "status": "completed"
    },
    "tags": []
   },
   "source": [
    "### Eval"
   ]
  },
  {
   "cell_type": "code",
   "execution_count": 41,
   "id": "656e4d1e",
   "metadata": {
    "execution": {
     "iopub.execute_input": "2025-02-01T07:34:27.833652Z",
     "iopub.status.busy": "2025-02-01T07:34:27.833284Z",
     "iopub.status.idle": "2025-02-01T07:34:27.836997Z",
     "shell.execute_reply": "2025-02-01T07:34:27.836223Z"
    },
    "papermill": {
     "duration": 0.843834,
     "end_time": "2025-02-01T07:34:27.838685",
     "exception": false,
     "start_time": "2025-02-01T07:34:26.994851",
     "status": "completed"
    },
    "tags": []
   },
   "outputs": [],
   "source": [
    "# all_preds_cnn5, all_labels_cnn5 = eval(model_cnn5, test_loader)"
   ]
  },
  {
   "cell_type": "code",
   "execution_count": 42,
   "id": "68727ace",
   "metadata": {
    "execution": {
     "iopub.execute_input": "2025-02-01T07:34:29.515189Z",
     "iopub.status.busy": "2025-02-01T07:34:29.514856Z",
     "iopub.status.idle": "2025-02-01T07:35:10.745898Z",
     "shell.execute_reply": "2025-02-01T07:35:10.744888Z"
    },
    "papermill": {
     "duration": 42.069303,
     "end_time": "2025-02-01T07:35:10.747850",
     "exception": false,
     "start_time": "2025-02-01T07:34:28.678547",
     "status": "completed"
    },
    "tags": []
   },
   "outputs": [
    {
     "name": "stderr",
     "output_type": "stream",
     "text": [
      "Test Progress: 100%|██████████| 80/80 [00:41<00:00,  1.94it/s]\n"
     ]
    }
   ],
   "source": [
    "all_preds_cnn7, all_labels_cnn7 = eval(model_cnn7, test_loader)"
   ]
  },
  {
   "cell_type": "code",
   "execution_count": 43,
   "id": "7f42b750",
   "metadata": {
    "execution": {
     "iopub.execute_input": "2025-02-01T07:35:12.431864Z",
     "iopub.status.busy": "2025-02-01T07:35:12.431502Z",
     "iopub.status.idle": "2025-02-01T07:35:12.435218Z",
     "shell.execute_reply": "2025-02-01T07:35:12.434471Z"
    },
    "papermill": {
     "duration": 0.850845,
     "end_time": "2025-02-01T07:35:12.436918",
     "exception": false,
     "start_time": "2025-02-01T07:35:11.586073",
     "status": "completed"
    },
    "tags": []
   },
   "outputs": [],
   "source": [
    "# all_preds_cnn9, all_labels_cnn9 = eval(model_cnn9, test_loader)"
   ]
  },
  {
   "cell_type": "code",
   "execution_count": 44,
   "id": "f2a5f48a",
   "metadata": {
    "execution": {
     "iopub.execute_input": "2025-02-01T07:35:14.105623Z",
     "iopub.status.busy": "2025-02-01T07:35:14.104976Z",
     "iopub.status.idle": "2025-02-01T07:37:06.262324Z",
     "shell.execute_reply": "2025-02-01T07:37:06.261199Z"
    },
    "papermill": {
     "duration": 112.957588,
     "end_time": "2025-02-01T07:37:06.264248",
     "exception": false,
     "start_time": "2025-02-01T07:35:13.306660",
     "status": "completed"
    },
    "tags": []
   },
   "outputs": [
    {
     "name": "stderr",
     "output_type": "stream",
     "text": [
      "Test Progress: 100%|██████████| 80/80 [01:52<00:00,  1.40s/it]\n"
     ]
    }
   ],
   "source": [
    "all_preds_cnn7_enhanced, all_labels_cnn7_enhanced = eval(model_cnn7_enhanced, enhanced_test_loader)"
   ]
  },
  {
   "cell_type": "markdown",
   "id": "82ac901c",
   "metadata": {
    "papermill": {
     "duration": 0.806682,
     "end_time": "2025-02-01T07:37:07.924062",
     "exception": false,
     "start_time": "2025-02-01T07:37:07.117380",
     "status": "completed"
    },
    "tags": []
   },
   "source": [
    "### Confusion Matrix"
   ]
  },
  {
   "cell_type": "code",
   "execution_count": 45,
   "id": "1ae02fe7",
   "metadata": {
    "execution": {
     "iopub.execute_input": "2025-02-01T07:37:09.643293Z",
     "iopub.status.busy": "2025-02-01T07:37:09.642960Z",
     "iopub.status.idle": "2025-02-01T07:37:09.646766Z",
     "shell.execute_reply": "2025-02-01T07:37:09.646027Z"
    },
    "papermill": {
     "duration": 0.87628,
     "end_time": "2025-02-01T07:37:09.648263",
     "exception": false,
     "start_time": "2025-02-01T07:37:08.771983",
     "status": "completed"
    },
    "tags": []
   },
   "outputs": [],
   "source": [
    "# cm_cnn5 = confusion_matrix(all_labels_cnn5, all_preds_cnn5)\n",
    "# pd.DataFrame(cm_cnn5, index = dataset.classes, columns = dataset.classes)"
   ]
  },
  {
   "cell_type": "code",
   "execution_count": 46,
   "id": "319bc757",
   "metadata": {
    "execution": {
     "iopub.execute_input": "2025-02-01T07:37:11.289663Z",
     "iopub.status.busy": "2025-02-01T07:37:11.289307Z",
     "iopub.status.idle": "2025-02-01T07:37:11.310456Z",
     "shell.execute_reply": "2025-02-01T07:37:11.309536Z"
    },
    "papermill": {
     "duration": 0.86693,
     "end_time": "2025-02-01T07:37:11.312202",
     "exception": false,
     "start_time": "2025-02-01T07:37:10.445272",
     "status": "completed"
    },
    "tags": []
   },
   "outputs": [
    {
     "data": {
      "text/html": [
       "<div>\n",
       "<style scoped>\n",
       "    .dataframe tbody tr th:only-of-type {\n",
       "        vertical-align: middle;\n",
       "    }\n",
       "\n",
       "    .dataframe tbody tr th {\n",
       "        vertical-align: top;\n",
       "    }\n",
       "\n",
       "    .dataframe thead th {\n",
       "        text-align: right;\n",
       "    }\n",
       "</style>\n",
       "<table border=\"1\" class=\"dataframe\">\n",
       "  <thead>\n",
       "    <tr style=\"text-align: right;\">\n",
       "      <th></th>\n",
       "      <th>CNV</th>\n",
       "      <th>DME</th>\n",
       "      <th>DRUSEN</th>\n",
       "      <th>NORMAL</th>\n",
       "    </tr>\n",
       "  </thead>\n",
       "  <tbody>\n",
       "    <tr>\n",
       "      <th>CNV</th>\n",
       "      <td>2909</td>\n",
       "      <td>26</td>\n",
       "      <td>28</td>\n",
       "      <td>5</td>\n",
       "    </tr>\n",
       "    <tr>\n",
       "      <th>DME</th>\n",
       "      <td>23</td>\n",
       "      <td>816</td>\n",
       "      <td>3</td>\n",
       "      <td>27</td>\n",
       "    </tr>\n",
       "    <tr>\n",
       "      <th>DRUSEN</th>\n",
       "      <td>111</td>\n",
       "      <td>4</td>\n",
       "      <td>498</td>\n",
       "      <td>47</td>\n",
       "    </tr>\n",
       "    <tr>\n",
       "      <th>NORMAL</th>\n",
       "      <td>7</td>\n",
       "      <td>44</td>\n",
       "      <td>16</td>\n",
       "      <td>2114</td>\n",
       "    </tr>\n",
       "  </tbody>\n",
       "</table>\n",
       "</div>"
      ],
      "text/plain": [
       "         CNV  DME  DRUSEN  NORMAL\n",
       "CNV     2909   26      28       5\n",
       "DME       23  816       3      27\n",
       "DRUSEN   111    4     498      47\n",
       "NORMAL     7   44      16    2114"
      ]
     },
     "execution_count": 46,
     "metadata": {},
     "output_type": "execute_result"
    }
   ],
   "source": [
    "cm_cnn7 = confusion_matrix(all_labels_cnn7, all_preds_cnn7)\n",
    "pd.DataFrame(cm_cnn7, index = dataset.classes, columns = dataset.classes)"
   ]
  },
  {
   "cell_type": "code",
   "execution_count": 47,
   "id": "4e7c4194",
   "metadata": {
    "execution": {
     "iopub.execute_input": "2025-02-01T07:37:13.013475Z",
     "iopub.status.busy": "2025-02-01T07:37:13.013098Z",
     "iopub.status.idle": "2025-02-01T07:37:13.017945Z",
     "shell.execute_reply": "2025-02-01T07:37:13.016958Z"
    },
    "papermill": {
     "duration": 0.861272,
     "end_time": "2025-02-01T07:37:13.019834",
     "exception": false,
     "start_time": "2025-02-01T07:37:12.158562",
     "status": "completed"
    },
    "tags": []
   },
   "outputs": [],
   "source": [
    "# cm_cnn9 = confusion_matrix(all_labels_cnn9, all_preds_cnn9)\n",
    "# pd.DataFrame(cm_cnn9, index = dataset.classes, columns = dataset.classes)"
   ]
  },
  {
   "cell_type": "code",
   "execution_count": 48,
   "id": "df0eef0b",
   "metadata": {
    "execution": {
     "iopub.execute_input": "2025-02-01T07:37:14.763690Z",
     "iopub.status.busy": "2025-02-01T07:37:14.763310Z",
     "iopub.status.idle": "2025-02-01T07:37:14.775325Z",
     "shell.execute_reply": "2025-02-01T07:37:14.774568Z"
    },
    "papermill": {
     "duration": 0.899202,
     "end_time": "2025-02-01T07:37:14.777136",
     "exception": false,
     "start_time": "2025-02-01T07:37:13.877934",
     "status": "completed"
    },
    "tags": []
   },
   "outputs": [
    {
     "data": {
      "text/html": [
       "<div>\n",
       "<style scoped>\n",
       "    .dataframe tbody tr th:only-of-type {\n",
       "        vertical-align: middle;\n",
       "    }\n",
       "\n",
       "    .dataframe tbody tr th {\n",
       "        vertical-align: top;\n",
       "    }\n",
       "\n",
       "    .dataframe thead th {\n",
       "        text-align: right;\n",
       "    }\n",
       "</style>\n",
       "<table border=\"1\" class=\"dataframe\">\n",
       "  <thead>\n",
       "    <tr style=\"text-align: right;\">\n",
       "      <th></th>\n",
       "      <th>CNV</th>\n",
       "      <th>DME</th>\n",
       "      <th>DRUSEN</th>\n",
       "      <th>NORMAL</th>\n",
       "    </tr>\n",
       "  </thead>\n",
       "  <tbody>\n",
       "    <tr>\n",
       "      <th>CNV</th>\n",
       "      <td>2954</td>\n",
       "      <td>12</td>\n",
       "      <td>32</td>\n",
       "      <td>1</td>\n",
       "    </tr>\n",
       "    <tr>\n",
       "      <th>DME</th>\n",
       "      <td>48</td>\n",
       "      <td>732</td>\n",
       "      <td>5</td>\n",
       "      <td>96</td>\n",
       "    </tr>\n",
       "    <tr>\n",
       "      <th>DRUSEN</th>\n",
       "      <td>102</td>\n",
       "      <td>1</td>\n",
       "      <td>567</td>\n",
       "      <td>30</td>\n",
       "    </tr>\n",
       "    <tr>\n",
       "      <th>NORMAL</th>\n",
       "      <td>6</td>\n",
       "      <td>35</td>\n",
       "      <td>37</td>\n",
       "      <td>2020</td>\n",
       "    </tr>\n",
       "  </tbody>\n",
       "</table>\n",
       "</div>"
      ],
      "text/plain": [
       "         CNV  DME  DRUSEN  NORMAL\n",
       "CNV     2954   12      32       1\n",
       "DME       48  732       5      96\n",
       "DRUSEN   102    1     567      30\n",
       "NORMAL     6   35      37    2020"
      ]
     },
     "execution_count": 48,
     "metadata": {},
     "output_type": "execute_result"
    }
   ],
   "source": [
    "cm_cnn7_enhanced = confusion_matrix(all_labels_cnn7_enhanced, all_preds_cnn7_enhanced)\n",
    "pd.DataFrame(cm_cnn7_enhanced, index = dataset.classes, columns = dataset.classes)"
   ]
  },
  {
   "cell_type": "markdown",
   "id": "6cd54281",
   "metadata": {
    "papermill": {
     "duration": 0.837143,
     "end_time": "2025-02-01T07:37:16.411119",
     "exception": false,
     "start_time": "2025-02-01T07:37:15.573976",
     "status": "completed"
    },
    "tags": []
   },
   "source": [
    "### Metrics"
   ]
  },
  {
   "cell_type": "code",
   "execution_count": 49,
   "id": "1721dd5e",
   "metadata": {
    "execution": {
     "iopub.execute_input": "2025-02-01T07:37:18.127590Z",
     "iopub.status.busy": "2025-02-01T07:37:18.126952Z",
     "iopub.status.idle": "2025-02-01T07:37:18.130818Z",
     "shell.execute_reply": "2025-02-01T07:37:18.130082Z"
    },
    "papermill": {
     "duration": 0.865001,
     "end_time": "2025-02-01T07:37:18.132610",
     "exception": false,
     "start_time": "2025-02-01T07:37:17.267609",
     "status": "completed"
    },
    "tags": []
   },
   "outputs": [],
   "source": [
    "# calculate_metrics(cm_cnn5, dataset.classes)"
   ]
  },
  {
   "cell_type": "code",
   "execution_count": 50,
   "id": "c987eb4d",
   "metadata": {
    "execution": {
     "iopub.execute_input": "2025-02-01T07:37:19.826538Z",
     "iopub.status.busy": "2025-02-01T07:37:19.826190Z",
     "iopub.status.idle": "2025-02-01T07:37:19.836684Z",
     "shell.execute_reply": "2025-02-01T07:37:19.835835Z"
    },
    "papermill": {
     "duration": 0.893429,
     "end_time": "2025-02-01T07:37:19.838273",
     "exception": false,
     "start_time": "2025-02-01T07:37:18.944844",
     "status": "completed"
    },
    "tags": []
   },
   "outputs": [
    {
     "data": {
      "text/html": [
       "<div>\n",
       "<style scoped>\n",
       "    .dataframe tbody tr th:only-of-type {\n",
       "        vertical-align: middle;\n",
       "    }\n",
       "\n",
       "    .dataframe tbody tr th {\n",
       "        vertical-align: top;\n",
       "    }\n",
       "\n",
       "    .dataframe thead th {\n",
       "        text-align: right;\n",
       "    }\n",
       "</style>\n",
       "<table border=\"1\" class=\"dataframe\">\n",
       "  <thead>\n",
       "    <tr style=\"text-align: right;\">\n",
       "      <th></th>\n",
       "      <th>CNV</th>\n",
       "      <th>DME</th>\n",
       "      <th>DRUSEN</th>\n",
       "      <th>NORMAL</th>\n",
       "    </tr>\n",
       "  </thead>\n",
       "  <tbody>\n",
       "    <tr>\n",
       "      <th>Acurácia</th>\n",
       "      <td>0.970051</td>\n",
       "      <td>0.980982</td>\n",
       "      <td>0.968703</td>\n",
       "      <td>0.978137</td>\n",
       "    </tr>\n",
       "    <tr>\n",
       "      <th>Precision</th>\n",
       "      <td>0.953770</td>\n",
       "      <td>0.916854</td>\n",
       "      <td>0.913761</td>\n",
       "      <td>0.963976</td>\n",
       "    </tr>\n",
       "    <tr>\n",
       "      <th>Sensitivity/Recall</th>\n",
       "      <td>0.980121</td>\n",
       "      <td>0.939010</td>\n",
       "      <td>0.754545</td>\n",
       "      <td>0.969280</td>\n",
       "    </tr>\n",
       "    <tr>\n",
       "      <th>Specificity</th>\n",
       "      <td>0.961995</td>\n",
       "      <td>0.987261</td>\n",
       "      <td>0.992190</td>\n",
       "      <td>0.982433</td>\n",
       "    </tr>\n",
       "    <tr>\n",
       "      <th>F1-Score</th>\n",
       "      <td>0.966766</td>\n",
       "      <td>0.927800</td>\n",
       "      <td>0.826556</td>\n",
       "      <td>0.966621</td>\n",
       "    </tr>\n",
       "  </tbody>\n",
       "</table>\n",
       "</div>"
      ],
      "text/plain": [
       "                         CNV       DME    DRUSEN    NORMAL\n",
       "Acurácia            0.970051  0.980982  0.968703  0.978137\n",
       "Precision           0.953770  0.916854  0.913761  0.963976\n",
       "Sensitivity/Recall  0.980121  0.939010  0.754545  0.969280\n",
       "Specificity         0.961995  0.987261  0.992190  0.982433\n",
       "F1-Score            0.966766  0.927800  0.826556  0.966621"
      ]
     },
     "execution_count": 50,
     "metadata": {},
     "output_type": "execute_result"
    }
   ],
   "source": [
    "calculate_metrics(cm_cnn7, dataset.classes)"
   ]
  },
  {
   "cell_type": "code",
   "execution_count": 51,
   "id": "2a0e9e70",
   "metadata": {
    "execution": {
     "iopub.execute_input": "2025-02-01T07:37:21.521479Z",
     "iopub.status.busy": "2025-02-01T07:37:21.521147Z",
     "iopub.status.idle": "2025-02-01T07:37:21.524956Z",
     "shell.execute_reply": "2025-02-01T07:37:21.524231Z"
    },
    "papermill": {
     "duration": 0.849303,
     "end_time": "2025-02-01T07:37:21.526421",
     "exception": false,
     "start_time": "2025-02-01T07:37:20.677118",
     "status": "completed"
    },
    "tags": []
   },
   "outputs": [],
   "source": [
    "# calculate_metrics(cm_cnn9, dataset.classes)"
   ]
  },
  {
   "cell_type": "code",
   "execution_count": 52,
   "id": "1902ec39",
   "metadata": {
    "execution": {
     "iopub.execute_input": "2025-02-01T07:37:23.216655Z",
     "iopub.status.busy": "2025-02-01T07:37:23.215910Z",
     "iopub.status.idle": "2025-02-01T07:37:23.225685Z",
     "shell.execute_reply": "2025-02-01T07:37:23.224930Z"
    },
    "papermill": {
     "duration": 0.858883,
     "end_time": "2025-02-01T07:37:23.227351",
     "exception": false,
     "start_time": "2025-02-01T07:37:22.368468",
     "status": "completed"
    },
    "tags": []
   },
   "outputs": [
    {
     "data": {
      "text/html": [
       "<div>\n",
       "<style scoped>\n",
       "    .dataframe tbody tr th:only-of-type {\n",
       "        vertical-align: middle;\n",
       "    }\n",
       "\n",
       "    .dataframe tbody tr th {\n",
       "        vertical-align: top;\n",
       "    }\n",
       "\n",
       "    .dataframe thead th {\n",
       "        text-align: right;\n",
       "    }\n",
       "</style>\n",
       "<table border=\"1\" class=\"dataframe\">\n",
       "  <thead>\n",
       "    <tr style=\"text-align: right;\">\n",
       "      <th></th>\n",
       "      <th>CNV</th>\n",
       "      <th>DME</th>\n",
       "      <th>DRUSEN</th>\n",
       "      <th>NORMAL</th>\n",
       "    </tr>\n",
       "  </thead>\n",
       "  <tbody>\n",
       "    <tr>\n",
       "      <th>Acurácia</th>\n",
       "      <td>0.969901</td>\n",
       "      <td>0.970500</td>\n",
       "      <td>0.969003</td>\n",
       "      <td>0.969302</td>\n",
       "    </tr>\n",
       "    <tr>\n",
       "      <th>Precision</th>\n",
       "      <td>0.949839</td>\n",
       "      <td>0.938462</td>\n",
       "      <td>0.884555</td>\n",
       "      <td>0.940848</td>\n",
       "    </tr>\n",
       "    <tr>\n",
       "      <th>Sensitivity/Recall</th>\n",
       "      <td>0.984995</td>\n",
       "      <td>0.830874</td>\n",
       "      <td>0.810000</td>\n",
       "      <td>0.962822</td>\n",
       "    </tr>\n",
       "    <tr>\n",
       "      <th>Specificity</th>\n",
       "      <td>0.957597</td>\n",
       "      <td>0.991720</td>\n",
       "      <td>0.987621</td>\n",
       "      <td>0.972271</td>\n",
       "    </tr>\n",
       "    <tr>\n",
       "      <th>F1-Score</th>\n",
       "      <td>0.967098</td>\n",
       "      <td>0.881397</td>\n",
       "      <td>0.845638</td>\n",
       "      <td>0.951708</td>\n",
       "    </tr>\n",
       "  </tbody>\n",
       "</table>\n",
       "</div>"
      ],
      "text/plain": [
       "                         CNV       DME    DRUSEN    NORMAL\n",
       "Acurácia            0.969901  0.970500  0.969003  0.969302\n",
       "Precision           0.949839  0.938462  0.884555  0.940848\n",
       "Sensitivity/Recall  0.984995  0.830874  0.810000  0.962822\n",
       "Specificity         0.957597  0.991720  0.987621  0.972271\n",
       "F1-Score            0.967098  0.881397  0.845638  0.951708"
      ]
     },
     "execution_count": 52,
     "metadata": {},
     "output_type": "execute_result"
    }
   ],
   "source": [
    "calculate_metrics(cm_cnn7_enhanced, dataset.classes)"
   ]
  },
  {
   "cell_type": "markdown",
   "id": "c38ebd0d",
   "metadata": {
    "papermill": {
     "duration": 0.849552,
     "end_time": "2025-02-01T07:37:24.897996",
     "exception": false,
     "start_time": "2025-02-01T07:37:24.048444",
     "status": "completed"
    },
    "tags": []
   },
   "source": [
    "### Metrics(macro)"
   ]
  },
  {
   "cell_type": "code",
   "execution_count": 53,
   "id": "b038cb38",
   "metadata": {
    "execution": {
     "iopub.execute_input": "2025-02-01T07:37:26.591251Z",
     "iopub.status.busy": "2025-02-01T07:37:26.590416Z",
     "iopub.status.idle": "2025-02-01T07:37:26.594222Z",
     "shell.execute_reply": "2025-02-01T07:37:26.593484Z"
    },
    "papermill": {
     "duration": 0.85207,
     "end_time": "2025-02-01T07:37:26.595688",
     "exception": false,
     "start_time": "2025-02-01T07:37:25.743618",
     "status": "completed"
    },
    "tags": []
   },
   "outputs": [],
   "source": [
    "# metrics_macro_cnn5 = calculate_overall_metrics(y_true = all_labels_cnn5, y_pred = all_preds_cnn5)\n",
    "# for metric in metrics_macro_cnn5:\n",
    "#     print(f\"{metric:20s}\\t{metrics_macro_cnn5[metric] * 100:0.5f}%\")"
   ]
  },
  {
   "cell_type": "code",
   "execution_count": 54,
   "id": "8c12a626",
   "metadata": {
    "execution": {
     "iopub.execute_input": "2025-02-01T07:37:28.244088Z",
     "iopub.status.busy": "2025-02-01T07:37:28.243750Z",
     "iopub.status.idle": "2025-02-01T07:37:28.264105Z",
     "shell.execute_reply": "2025-02-01T07:37:28.263111Z"
    },
    "papermill": {
     "duration": 0.879396,
     "end_time": "2025-02-01T07:37:28.265748",
     "exception": false,
     "start_time": "2025-02-01T07:37:27.386352",
     "status": "completed"
    },
    "tags": []
   },
   "outputs": [
    {
     "name": "stdout",
     "output_type": "stream",
     "text": [
      "accuracy            \t94.89%\n",
      "sensitivity         \t91.07%\n",
      "specificity         \t98.10%\n",
      "f1_score            \t92.19%\n",
      "kappa               \t92.31%\n"
     ]
    }
   ],
   "source": [
    "metrics_macro_cnn7 = calculate_overall_metrics(y_true = all_labels_cnn7, y_pred = all_preds_cnn7)\n",
    "for metric in metrics_macro_cnn7:\n",
    "    print(f\"{metric:20s}\\t{metrics_macro_cnn7[metric] * 100:0.2f}%\")"
   ]
  },
  {
   "cell_type": "code",
   "execution_count": 55,
   "id": "278e1715",
   "metadata": {
    "execution": {
     "iopub.execute_input": "2025-02-01T07:37:29.976951Z",
     "iopub.status.busy": "2025-02-01T07:37:29.976609Z",
     "iopub.status.idle": "2025-02-01T07:37:29.980328Z",
     "shell.execute_reply": "2025-02-01T07:37:29.979579Z"
    },
    "papermill": {
     "duration": 0.850973,
     "end_time": "2025-02-01T07:37:29.981935",
     "exception": false,
     "start_time": "2025-02-01T07:37:29.130962",
     "status": "completed"
    },
    "tags": []
   },
   "outputs": [],
   "source": [
    "# metrics_macro_cnn9 = calculate_overall_metrics(y_true = all_labels_cnn9, y_pred = all_preds_cnn9)\n",
    "# for metric in metrics_macro_cnn9:\n",
    "#     print(f\"{metric:20s}\\t{metrics_macro_cnn9[metric] * 100:0.2f}%\")"
   ]
  },
  {
   "cell_type": "code",
   "execution_count": 56,
   "id": "ea3e4f6d",
   "metadata": {
    "execution": {
     "iopub.execute_input": "2025-02-01T07:37:31.650818Z",
     "iopub.status.busy": "2025-02-01T07:37:31.649969Z",
     "iopub.status.idle": "2025-02-01T07:37:31.680448Z",
     "shell.execute_reply": "2025-02-01T07:37:31.679611Z"
    },
    "papermill": {
     "duration": 0.857674,
     "end_time": "2025-02-01T07:37:31.682500",
     "exception": false,
     "start_time": "2025-02-01T07:37:30.824826",
     "status": "completed"
    },
    "tags": []
   },
   "outputs": [
    {
     "name": "stdout",
     "output_type": "stream",
     "text": [
      "accuracy            \t93.94%\n",
      "sensitivity         \t89.72%\n",
      "specificity         \t97.73%\n",
      "f1_score            \t91.15%\n",
      "kappa               \t90.87%\n"
     ]
    }
   ],
   "source": [
    "metrics_macro_cnn7_enhanced = calculate_overall_metrics(y_true = all_labels_cnn7_enhanced, y_pred = all_preds_cnn7_enhanced)\n",
    "for metric in metrics_macro_cnn7_enhanced:\n",
    "    print(f\"{metric:20s}\\t{metrics_macro_cnn7_enhanced[metric] * 100:0.2f}%\")"
   ]
  },
  {
   "cell_type": "markdown",
   "id": "135ac369",
   "metadata": {
    "papermill": {
     "duration": 0.843994,
     "end_time": "2025-02-01T07:37:33.423217",
     "exception": false,
     "start_time": "2025-02-01T07:37:32.579223",
     "status": "completed"
    },
    "tags": []
   },
   "source": [
    "### Metrics(local)"
   ]
  },
  {
   "cell_type": "code",
   "execution_count": 57,
   "id": "e79aa027",
   "metadata": {
    "execution": {
     "iopub.execute_input": "2025-02-01T07:37:35.061251Z",
     "iopub.status.busy": "2025-02-01T07:37:35.060918Z",
     "iopub.status.idle": "2025-02-01T07:37:35.064770Z",
     "shell.execute_reply": "2025-02-01T07:37:35.063926Z"
    },
    "papermill": {
     "duration": 0.845563,
     "end_time": "2025-02-01T07:37:35.066404",
     "exception": false,
     "start_time": "2025-02-01T07:37:34.220841",
     "status": "completed"
    },
    "tags": []
   },
   "outputs": [],
   "source": [
    "# metrics_local_cnn5 = calculate_metrics_per_class(y_true=all_labels_cnn5, y_pred=all_preds_cnn5, class_names=dataset.classes)\n",
    "# pd.DataFrame(metrics_local_cnn5)"
   ]
  },
  {
   "cell_type": "code",
   "execution_count": 58,
   "id": "f5b412ae",
   "metadata": {
    "execution": {
     "iopub.execute_input": "2025-02-01T07:37:36.745661Z",
     "iopub.status.busy": "2025-02-01T07:37:36.745291Z",
     "iopub.status.idle": "2025-02-01T07:37:36.798740Z",
     "shell.execute_reply": "2025-02-01T07:37:36.797877Z"
    },
    "papermill": {
     "duration": 0.893705,
     "end_time": "2025-02-01T07:37:36.800773",
     "exception": false,
     "start_time": "2025-02-01T07:37:35.907068",
     "status": "completed"
    },
    "tags": []
   },
   "outputs": [
    {
     "data": {
      "text/html": [
       "<div>\n",
       "<style scoped>\n",
       "    .dataframe tbody tr th:only-of-type {\n",
       "        vertical-align: middle;\n",
       "    }\n",
       "\n",
       "    .dataframe tbody tr th {\n",
       "        vertical-align: top;\n",
       "    }\n",
       "\n",
       "    .dataframe thead th {\n",
       "        text-align: right;\n",
       "    }\n",
       "</style>\n",
       "<table border=\"1\" class=\"dataframe\">\n",
       "  <thead>\n",
       "    <tr style=\"text-align: right;\">\n",
       "      <th></th>\n",
       "      <th>CNV</th>\n",
       "      <th>DME</th>\n",
       "      <th>DRUSEN</th>\n",
       "      <th>NORMAL</th>\n",
       "    </tr>\n",
       "  </thead>\n",
       "  <tbody>\n",
       "    <tr>\n",
       "      <th>precision</th>\n",
       "      <td>0.953770</td>\n",
       "      <td>0.916854</td>\n",
       "      <td>0.913761</td>\n",
       "      <td>0.963976</td>\n",
       "    </tr>\n",
       "    <tr>\n",
       "      <th>recall</th>\n",
       "      <td>0.980121</td>\n",
       "      <td>0.939010</td>\n",
       "      <td>0.754545</td>\n",
       "      <td>0.969280</td>\n",
       "    </tr>\n",
       "  </tbody>\n",
       "</table>\n",
       "</div>"
      ],
      "text/plain": [
       "                CNV       DME    DRUSEN    NORMAL\n",
       "precision  0.953770  0.916854  0.913761  0.963976\n",
       "recall     0.980121  0.939010  0.754545  0.969280"
      ]
     },
     "execution_count": 58,
     "metadata": {},
     "output_type": "execute_result"
    }
   ],
   "source": [
    "metrics_local_cnn7 = calculate_metrics_per_class(y_true=all_labels_cnn7, y_pred=all_preds_cnn7, class_names=dataset.classes)\n",
    "pd.DataFrame(metrics_local_cnn7)"
   ]
  },
  {
   "cell_type": "code",
   "execution_count": 59,
   "id": "87606423",
   "metadata": {
    "execution": {
     "iopub.execute_input": "2025-02-01T07:37:38.545875Z",
     "iopub.status.busy": "2025-02-01T07:37:38.545526Z",
     "iopub.status.idle": "2025-02-01T07:37:38.549137Z",
     "shell.execute_reply": "2025-02-01T07:37:38.548361Z"
    },
    "papermill": {
     "duration": 0.861279,
     "end_time": "2025-02-01T07:37:38.550853",
     "exception": false,
     "start_time": "2025-02-01T07:37:37.689574",
     "status": "completed"
    },
    "tags": []
   },
   "outputs": [],
   "source": [
    "# metrics_local_cnn9 = calculate_metrics_per_class(y_true=all_labels_cnn9, y_pred=all_preds_cnn9, class_names=dataset.classes)\n",
    "# pd.DataFrame(metrics_local_cnn9)"
   ]
  },
  {
   "cell_type": "code",
   "execution_count": 60,
   "id": "31dcdcb1",
   "metadata": {
    "execution": {
     "iopub.execute_input": "2025-02-01T07:37:40.261259Z",
     "iopub.status.busy": "2025-02-01T07:37:40.260905Z",
     "iopub.status.idle": "2025-02-01T07:37:40.318454Z",
     "shell.execute_reply": "2025-02-01T07:37:40.317551Z"
    },
    "papermill": {
     "duration": 0.945175,
     "end_time": "2025-02-01T07:37:40.320370",
     "exception": false,
     "start_time": "2025-02-01T07:37:39.375195",
     "status": "completed"
    },
    "tags": []
   },
   "outputs": [
    {
     "data": {
      "text/html": [
       "<div>\n",
       "<style scoped>\n",
       "    .dataframe tbody tr th:only-of-type {\n",
       "        vertical-align: middle;\n",
       "    }\n",
       "\n",
       "    .dataframe tbody tr th {\n",
       "        vertical-align: top;\n",
       "    }\n",
       "\n",
       "    .dataframe thead th {\n",
       "        text-align: right;\n",
       "    }\n",
       "</style>\n",
       "<table border=\"1\" class=\"dataframe\">\n",
       "  <thead>\n",
       "    <tr style=\"text-align: right;\">\n",
       "      <th></th>\n",
       "      <th>CNV</th>\n",
       "      <th>DME</th>\n",
       "      <th>DRUSEN</th>\n",
       "      <th>NORMAL</th>\n",
       "    </tr>\n",
       "  </thead>\n",
       "  <tbody>\n",
       "    <tr>\n",
       "      <th>precision</th>\n",
       "      <td>0.949839</td>\n",
       "      <td>0.938462</td>\n",
       "      <td>0.884555</td>\n",
       "      <td>0.940848</td>\n",
       "    </tr>\n",
       "    <tr>\n",
       "      <th>recall</th>\n",
       "      <td>0.984995</td>\n",
       "      <td>0.830874</td>\n",
       "      <td>0.810000</td>\n",
       "      <td>0.962822</td>\n",
       "    </tr>\n",
       "  </tbody>\n",
       "</table>\n",
       "</div>"
      ],
      "text/plain": [
       "                CNV       DME    DRUSEN    NORMAL\n",
       "precision  0.949839  0.938462  0.884555  0.940848\n",
       "recall     0.984995  0.830874  0.810000  0.962822"
      ]
     },
     "execution_count": 60,
     "metadata": {},
     "output_type": "execute_result"
    }
   ],
   "source": [
    "metrics_local_cnn7_enhanced = calculate_metrics_per_class(y_true=all_labels_cnn7_enhanced, y_pred=all_preds_cnn7_enhanced, class_names=dataset.classes)\n",
    "pd.DataFrame(metrics_local_cnn7_enhanced)"
   ]
  }
 ],
 "metadata": {
  "kaggle": {
   "accelerator": "nvidiaTeslaT4",
   "dataSources": [
    {
     "datasetId": 17839,
     "sourceId": 23942,
     "sourceType": "datasetVersion"
    }
   ],
   "dockerImageVersionId": 30787,
   "isGpuEnabled": true,
   "isInternetEnabled": true,
   "language": "python",
   "sourceType": "notebook"
  },
  "kernelspec": {
   "display_name": "Python 3",
   "language": "python",
   "name": "python3"
  },
  "language_info": {
   "codemirror_mode": {
    "name": "ipython",
    "version": 3
   },
   "file_extension": ".py",
   "mimetype": "text/x-python",
   "name": "python",
   "nbconvert_exporter": "python",
   "pygments_lexer": "ipython3",
   "version": "3.10.14"
  },
  "papermill": {
   "default_parameters": {},
   "duration": 18064.546617,
   "end_time": "2025-02-01T07:37:42.717529",
   "environment_variables": {},
   "exception": null,
   "input_path": "__notebook__.ipynb",
   "output_path": "__notebook__.ipynb",
   "parameters": {},
   "start_time": "2025-02-01T02:36:38.170912",
   "version": "2.6.0"
  }
 },
 "nbformat": 4,
 "nbformat_minor": 5
}
